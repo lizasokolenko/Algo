{
  "nbformat": 4,
  "nbformat_minor": 0,
  "metadata": {
    "colab": {
      "name": "assignment_6_rqnn.ipynb",
      "provenance": [],
      "collapsed_sections": []
    },
    "kernelspec": {
      "name": "python3",
      "display_name": "Python 3"
    },
    "widgets": {
      "application/vnd.jupyter.widget-state+json": {
        "e0c2ce9dea9e4beb8a9c04ba41380561": {
          "model_module": "@jupyter-widgets/controls",
          "model_name": "HBoxModel",
          "state": {
            "_view_name": "HBoxView",
            "_dom_classes": [],
            "_model_name": "HBoxModel",
            "_view_module": "@jupyter-widgets/controls",
            "_model_module_version": "1.5.0",
            "_view_count": null,
            "_view_module_version": "1.5.0",
            "box_style": "",
            "layout": "IPY_MODEL_e0a8890419664ce4a99f7f055e5a57c3",
            "_model_module": "@jupyter-widgets/controls",
            "children": [
              "IPY_MODEL_e4e300f653a04126ba1b46bccaa203b5",
              "IPY_MODEL_5da9a3a2c4c448e6ab22a5d6d0dfe63b"
            ]
          }
        },
        "e0a8890419664ce4a99f7f055e5a57c3": {
          "model_module": "@jupyter-widgets/base",
          "model_name": "LayoutModel",
          "state": {
            "_view_name": "LayoutView",
            "grid_template_rows": null,
            "right": null,
            "justify_content": null,
            "_view_module": "@jupyter-widgets/base",
            "overflow": null,
            "_model_module_version": "1.2.0",
            "_view_count": null,
            "flex_flow": null,
            "width": null,
            "min_width": null,
            "border": null,
            "align_items": null,
            "bottom": null,
            "_model_module": "@jupyter-widgets/base",
            "top": null,
            "grid_column": null,
            "overflow_y": null,
            "overflow_x": null,
            "grid_auto_flow": null,
            "grid_area": null,
            "grid_template_columns": null,
            "flex": null,
            "_model_name": "LayoutModel",
            "justify_items": null,
            "grid_row": null,
            "max_height": null,
            "align_content": null,
            "visibility": null,
            "align_self": null,
            "height": null,
            "min_height": null,
            "padding": null,
            "grid_auto_rows": null,
            "grid_gap": null,
            "max_width": null,
            "order": null,
            "_view_module_version": "1.2.0",
            "grid_template_areas": null,
            "object_position": null,
            "object_fit": null,
            "grid_auto_columns": null,
            "margin": null,
            "display": null,
            "left": null
          }
        },
        "e4e300f653a04126ba1b46bccaa203b5": {
          "model_module": "@jupyter-widgets/controls",
          "model_name": "IntProgressModel",
          "state": {
            "_view_name": "ProgressView",
            "style": "IPY_MODEL_932e17516083454397e9a3f1d1537193",
            "_dom_classes": [],
            "description": "epoch 0: 100%",
            "_model_name": "IntProgressModel",
            "bar_style": "success",
            "max": 1338,
            "_view_module": "@jupyter-widgets/controls",
            "_model_module_version": "1.5.0",
            "value": 1338,
            "_view_count": null,
            "_view_module_version": "1.5.0",
            "orientation": "horizontal",
            "min": 0,
            "description_tooltip": null,
            "_model_module": "@jupyter-widgets/controls",
            "layout": "IPY_MODEL_bdbeb5852f6c46c2a6410135e306f8ea"
          }
        },
        "5da9a3a2c4c448e6ab22a5d6d0dfe63b": {
          "model_module": "@jupyter-widgets/controls",
          "model_name": "HTMLModel",
          "state": {
            "_view_name": "HTMLView",
            "style": "IPY_MODEL_e38707b2b3164ebfbfca1b9c1fe8bdcb",
            "_dom_classes": [],
            "description": "",
            "_model_name": "HTMLModel",
            "placeholder": "​",
            "_view_module": "@jupyter-widgets/controls",
            "_model_module_version": "1.5.0",
            "value": " 1338/1338 [28:38&lt;00:00,  1.28s/it, loss=4.57396]",
            "_view_count": null,
            "_view_module_version": "1.5.0",
            "description_tooltip": null,
            "_model_module": "@jupyter-widgets/controls",
            "layout": "IPY_MODEL_ec6aa309d22d49b3a9b90b7d969e4b4e"
          }
        },
        "932e17516083454397e9a3f1d1537193": {
          "model_module": "@jupyter-widgets/controls",
          "model_name": "ProgressStyleModel",
          "state": {
            "_view_name": "StyleView",
            "_model_name": "ProgressStyleModel",
            "description_width": "initial",
            "_view_module": "@jupyter-widgets/base",
            "_model_module_version": "1.5.0",
            "_view_count": null,
            "_view_module_version": "1.2.0",
            "bar_color": null,
            "_model_module": "@jupyter-widgets/controls"
          }
        },
        "bdbeb5852f6c46c2a6410135e306f8ea": {
          "model_module": "@jupyter-widgets/base",
          "model_name": "LayoutModel",
          "state": {
            "_view_name": "LayoutView",
            "grid_template_rows": null,
            "right": null,
            "justify_content": null,
            "_view_module": "@jupyter-widgets/base",
            "overflow": null,
            "_model_module_version": "1.2.0",
            "_view_count": null,
            "flex_flow": null,
            "width": null,
            "min_width": null,
            "border": null,
            "align_items": null,
            "bottom": null,
            "_model_module": "@jupyter-widgets/base",
            "top": null,
            "grid_column": null,
            "overflow_y": null,
            "overflow_x": null,
            "grid_auto_flow": null,
            "grid_area": null,
            "grid_template_columns": null,
            "flex": null,
            "_model_name": "LayoutModel",
            "justify_items": null,
            "grid_row": null,
            "max_height": null,
            "align_content": null,
            "visibility": null,
            "align_self": null,
            "height": null,
            "min_height": null,
            "padding": null,
            "grid_auto_rows": null,
            "grid_gap": null,
            "max_width": null,
            "order": null,
            "_view_module_version": "1.2.0",
            "grid_template_areas": null,
            "object_position": null,
            "object_fit": null,
            "grid_auto_columns": null,
            "margin": null,
            "display": null,
            "left": null
          }
        },
        "e38707b2b3164ebfbfca1b9c1fe8bdcb": {
          "model_module": "@jupyter-widgets/controls",
          "model_name": "DescriptionStyleModel",
          "state": {
            "_view_name": "StyleView",
            "_model_name": "DescriptionStyleModel",
            "description_width": "",
            "_view_module": "@jupyter-widgets/base",
            "_model_module_version": "1.5.0",
            "_view_count": null,
            "_view_module_version": "1.2.0",
            "_model_module": "@jupyter-widgets/controls"
          }
        },
        "ec6aa309d22d49b3a9b90b7d969e4b4e": {
          "model_module": "@jupyter-widgets/base",
          "model_name": "LayoutModel",
          "state": {
            "_view_name": "LayoutView",
            "grid_template_rows": null,
            "right": null,
            "justify_content": null,
            "_view_module": "@jupyter-widgets/base",
            "overflow": null,
            "_model_module_version": "1.2.0",
            "_view_count": null,
            "flex_flow": null,
            "width": null,
            "min_width": null,
            "border": null,
            "align_items": null,
            "bottom": null,
            "_model_module": "@jupyter-widgets/base",
            "top": null,
            "grid_column": null,
            "overflow_y": null,
            "overflow_x": null,
            "grid_auto_flow": null,
            "grid_area": null,
            "grid_template_columns": null,
            "flex": null,
            "_model_name": "LayoutModel",
            "justify_items": null,
            "grid_row": null,
            "max_height": null,
            "align_content": null,
            "visibility": null,
            "align_self": null,
            "height": null,
            "min_height": null,
            "padding": null,
            "grid_auto_rows": null,
            "grid_gap": null,
            "max_width": null,
            "order": null,
            "_view_module_version": "1.2.0",
            "grid_template_areas": null,
            "object_position": null,
            "object_fit": null,
            "grid_auto_columns": null,
            "margin": null,
            "display": null,
            "left": null
          }
        },
        "2db767d2896544568cb6ff72788543ad": {
          "model_module": "@jupyter-widgets/controls",
          "model_name": "HBoxModel",
          "state": {
            "_view_name": "HBoxView",
            "_dom_classes": [],
            "_model_name": "HBoxModel",
            "_view_module": "@jupyter-widgets/controls",
            "_model_module_version": "1.5.0",
            "_view_count": null,
            "_view_module_version": "1.5.0",
            "box_style": "",
            "layout": "IPY_MODEL_d46e0ebe5a0648f893d93ace6ad9c24f",
            "_model_module": "@jupyter-widgets/controls",
            "children": [
              "IPY_MODEL_64cb97e3eaf84a6bb5f9d68417c2381b",
              "IPY_MODEL_88d8c3034d8d4168b8887e73c91a9c36"
            ]
          }
        },
        "d46e0ebe5a0648f893d93ace6ad9c24f": {
          "model_module": "@jupyter-widgets/base",
          "model_name": "LayoutModel",
          "state": {
            "_view_name": "LayoutView",
            "grid_template_rows": null,
            "right": null,
            "justify_content": null,
            "_view_module": "@jupyter-widgets/base",
            "overflow": null,
            "_model_module_version": "1.2.0",
            "_view_count": null,
            "flex_flow": null,
            "width": null,
            "min_width": null,
            "border": null,
            "align_items": null,
            "bottom": null,
            "_model_module": "@jupyter-widgets/base",
            "top": null,
            "grid_column": null,
            "overflow_y": null,
            "overflow_x": null,
            "grid_auto_flow": null,
            "grid_area": null,
            "grid_template_columns": null,
            "flex": null,
            "_model_name": "LayoutModel",
            "justify_items": null,
            "grid_row": null,
            "max_height": null,
            "align_content": null,
            "visibility": null,
            "align_self": null,
            "height": null,
            "min_height": null,
            "padding": null,
            "grid_auto_rows": null,
            "grid_gap": null,
            "max_width": null,
            "order": null,
            "_view_module_version": "1.2.0",
            "grid_template_areas": null,
            "object_position": null,
            "object_fit": null,
            "grid_auto_columns": null,
            "margin": null,
            "display": null,
            "left": null
          }
        },
        "64cb97e3eaf84a6bb5f9d68417c2381b": {
          "model_module": "@jupyter-widgets/controls",
          "model_name": "IntProgressModel",
          "state": {
            "_view_name": "ProgressView",
            "style": "IPY_MODEL_29f5b7f451a2432081849c772d7109ee",
            "_dom_classes": [],
            "description": "epoch 1: 100%",
            "_model_name": "IntProgressModel",
            "bar_style": "success",
            "max": 1338,
            "_view_module": "@jupyter-widgets/controls",
            "_model_module_version": "1.5.0",
            "value": 1338,
            "_view_count": null,
            "_view_module_version": "1.5.0",
            "orientation": "horizontal",
            "min": 0,
            "description_tooltip": null,
            "_model_module": "@jupyter-widgets/controls",
            "layout": "IPY_MODEL_8a0a7380f34040bbbaae8a5d9cde0473"
          }
        },
        "88d8c3034d8d4168b8887e73c91a9c36": {
          "model_module": "@jupyter-widgets/controls",
          "model_name": "HTMLModel",
          "state": {
            "_view_name": "HTMLView",
            "style": "IPY_MODEL_dd15089b9ff0428fa8aa5765174115e6",
            "_dom_classes": [],
            "description": "",
            "_model_name": "HTMLModel",
            "placeholder": "​",
            "_view_module": "@jupyter-widgets/controls",
            "_model_module_version": "1.5.0",
            "value": " 1338/1338 [1:25:22&lt;00:00,  3.83s/it, loss=2.04353]",
            "_view_count": null,
            "_view_module_version": "1.5.0",
            "description_tooltip": null,
            "_model_module": "@jupyter-widgets/controls",
            "layout": "IPY_MODEL_89c2cace99924c08a2485f04c249536c"
          }
        },
        "29f5b7f451a2432081849c772d7109ee": {
          "model_module": "@jupyter-widgets/controls",
          "model_name": "ProgressStyleModel",
          "state": {
            "_view_name": "StyleView",
            "_model_name": "ProgressStyleModel",
            "description_width": "initial",
            "_view_module": "@jupyter-widgets/base",
            "_model_module_version": "1.5.0",
            "_view_count": null,
            "_view_module_version": "1.2.0",
            "bar_color": null,
            "_model_module": "@jupyter-widgets/controls"
          }
        },
        "8a0a7380f34040bbbaae8a5d9cde0473": {
          "model_module": "@jupyter-widgets/base",
          "model_name": "LayoutModel",
          "state": {
            "_view_name": "LayoutView",
            "grid_template_rows": null,
            "right": null,
            "justify_content": null,
            "_view_module": "@jupyter-widgets/base",
            "overflow": null,
            "_model_module_version": "1.2.0",
            "_view_count": null,
            "flex_flow": null,
            "width": null,
            "min_width": null,
            "border": null,
            "align_items": null,
            "bottom": null,
            "_model_module": "@jupyter-widgets/base",
            "top": null,
            "grid_column": null,
            "overflow_y": null,
            "overflow_x": null,
            "grid_auto_flow": null,
            "grid_area": null,
            "grid_template_columns": null,
            "flex": null,
            "_model_name": "LayoutModel",
            "justify_items": null,
            "grid_row": null,
            "max_height": null,
            "align_content": null,
            "visibility": null,
            "align_self": null,
            "height": null,
            "min_height": null,
            "padding": null,
            "grid_auto_rows": null,
            "grid_gap": null,
            "max_width": null,
            "order": null,
            "_view_module_version": "1.2.0",
            "grid_template_areas": null,
            "object_position": null,
            "object_fit": null,
            "grid_auto_columns": null,
            "margin": null,
            "display": null,
            "left": null
          }
        },
        "dd15089b9ff0428fa8aa5765174115e6": {
          "model_module": "@jupyter-widgets/controls",
          "model_name": "DescriptionStyleModel",
          "state": {
            "_view_name": "StyleView",
            "_model_name": "DescriptionStyleModel",
            "description_width": "",
            "_view_module": "@jupyter-widgets/base",
            "_model_module_version": "1.5.0",
            "_view_count": null,
            "_view_module_version": "1.2.0",
            "_model_module": "@jupyter-widgets/controls"
          }
        },
        "89c2cace99924c08a2485f04c249536c": {
          "model_module": "@jupyter-widgets/base",
          "model_name": "LayoutModel",
          "state": {
            "_view_name": "LayoutView",
            "grid_template_rows": null,
            "right": null,
            "justify_content": null,
            "_view_module": "@jupyter-widgets/base",
            "overflow": null,
            "_model_module_version": "1.2.0",
            "_view_count": null,
            "flex_flow": null,
            "width": null,
            "min_width": null,
            "border": null,
            "align_items": null,
            "bottom": null,
            "_model_module": "@jupyter-widgets/base",
            "top": null,
            "grid_column": null,
            "overflow_y": null,
            "overflow_x": null,
            "grid_auto_flow": null,
            "grid_area": null,
            "grid_template_columns": null,
            "flex": null,
            "_model_name": "LayoutModel",
            "justify_items": null,
            "grid_row": null,
            "max_height": null,
            "align_content": null,
            "visibility": null,
            "align_self": null,
            "height": null,
            "min_height": null,
            "padding": null,
            "grid_auto_rows": null,
            "grid_gap": null,
            "max_width": null,
            "order": null,
            "_view_module_version": "1.2.0",
            "grid_template_areas": null,
            "object_position": null,
            "object_fit": null,
            "grid_auto_columns": null,
            "margin": null,
            "display": null,
            "left": null
          }
        },
        "eafc3e0fbe844074a514ad152fe6c443": {
          "model_module": "@jupyter-widgets/controls",
          "model_name": "HBoxModel",
          "state": {
            "_view_name": "HBoxView",
            "_dom_classes": [],
            "_model_name": "HBoxModel",
            "_view_module": "@jupyter-widgets/controls",
            "_model_module_version": "1.5.0",
            "_view_count": null,
            "_view_module_version": "1.5.0",
            "box_style": "",
            "layout": "IPY_MODEL_3d35d9a2d07e48f6903ac762b63ad681",
            "_model_module": "@jupyter-widgets/controls",
            "children": [
              "IPY_MODEL_4b04c92b7e654902b6738bafc245e5ce",
              "IPY_MODEL_080c95accad84aeba41bf00d54a6abd1"
            ]
          }
        },
        "3d35d9a2d07e48f6903ac762b63ad681": {
          "model_module": "@jupyter-widgets/base",
          "model_name": "LayoutModel",
          "state": {
            "_view_name": "LayoutView",
            "grid_template_rows": null,
            "right": null,
            "justify_content": null,
            "_view_module": "@jupyter-widgets/base",
            "overflow": null,
            "_model_module_version": "1.2.0",
            "_view_count": null,
            "flex_flow": null,
            "width": null,
            "min_width": null,
            "border": null,
            "align_items": null,
            "bottom": null,
            "_model_module": "@jupyter-widgets/base",
            "top": null,
            "grid_column": null,
            "overflow_y": null,
            "overflow_x": null,
            "grid_auto_flow": null,
            "grid_area": null,
            "grid_template_columns": null,
            "flex": null,
            "_model_name": "LayoutModel",
            "justify_items": null,
            "grid_row": null,
            "max_height": null,
            "align_content": null,
            "visibility": null,
            "align_self": null,
            "height": null,
            "min_height": null,
            "padding": null,
            "grid_auto_rows": null,
            "grid_gap": null,
            "max_width": null,
            "order": null,
            "_view_module_version": "1.2.0",
            "grid_template_areas": null,
            "object_position": null,
            "object_fit": null,
            "grid_auto_columns": null,
            "margin": null,
            "display": null,
            "left": null
          }
        },
        "4b04c92b7e654902b6738bafc245e5ce": {
          "model_module": "@jupyter-widgets/controls",
          "model_name": "IntProgressModel",
          "state": {
            "_view_name": "ProgressView",
            "style": "IPY_MODEL_4119e702bf7d4dd794b79e3eb9a4a8d7",
            "_dom_classes": [],
            "description": "epoch 2: 100%",
            "_model_name": "IntProgressModel",
            "bar_style": "success",
            "max": 1338,
            "_view_module": "@jupyter-widgets/controls",
            "_model_module_version": "1.5.0",
            "value": 1338,
            "_view_count": null,
            "_view_module_version": "1.5.0",
            "orientation": "horizontal",
            "min": 0,
            "description_tooltip": null,
            "_model_module": "@jupyter-widgets/controls",
            "layout": "IPY_MODEL_22bf813614a245588b40b29c8518dedd"
          }
        },
        "080c95accad84aeba41bf00d54a6abd1": {
          "model_module": "@jupyter-widgets/controls",
          "model_name": "HTMLModel",
          "state": {
            "_view_name": "HTMLView",
            "style": "IPY_MODEL_f8b007221bb846cd8f1022fb69f083bc",
            "_dom_classes": [],
            "description": "",
            "_model_name": "HTMLModel",
            "placeholder": "​",
            "_view_module": "@jupyter-widgets/controls",
            "_model_module_version": "1.5.0",
            "value": " 1338/1338 [56:58&lt;00:00,  2.55s/it, loss=0.92971]",
            "_view_count": null,
            "_view_module_version": "1.5.0",
            "description_tooltip": null,
            "_model_module": "@jupyter-widgets/controls",
            "layout": "IPY_MODEL_ff488fbfd65243639d1f641c42b40c69"
          }
        },
        "4119e702bf7d4dd794b79e3eb9a4a8d7": {
          "model_module": "@jupyter-widgets/controls",
          "model_name": "ProgressStyleModel",
          "state": {
            "_view_name": "StyleView",
            "_model_name": "ProgressStyleModel",
            "description_width": "initial",
            "_view_module": "@jupyter-widgets/base",
            "_model_module_version": "1.5.0",
            "_view_count": null,
            "_view_module_version": "1.2.0",
            "bar_color": null,
            "_model_module": "@jupyter-widgets/controls"
          }
        },
        "22bf813614a245588b40b29c8518dedd": {
          "model_module": "@jupyter-widgets/base",
          "model_name": "LayoutModel",
          "state": {
            "_view_name": "LayoutView",
            "grid_template_rows": null,
            "right": null,
            "justify_content": null,
            "_view_module": "@jupyter-widgets/base",
            "overflow": null,
            "_model_module_version": "1.2.0",
            "_view_count": null,
            "flex_flow": null,
            "width": null,
            "min_width": null,
            "border": null,
            "align_items": null,
            "bottom": null,
            "_model_module": "@jupyter-widgets/base",
            "top": null,
            "grid_column": null,
            "overflow_y": null,
            "overflow_x": null,
            "grid_auto_flow": null,
            "grid_area": null,
            "grid_template_columns": null,
            "flex": null,
            "_model_name": "LayoutModel",
            "justify_items": null,
            "grid_row": null,
            "max_height": null,
            "align_content": null,
            "visibility": null,
            "align_self": null,
            "height": null,
            "min_height": null,
            "padding": null,
            "grid_auto_rows": null,
            "grid_gap": null,
            "max_width": null,
            "order": null,
            "_view_module_version": "1.2.0",
            "grid_template_areas": null,
            "object_position": null,
            "object_fit": null,
            "grid_auto_columns": null,
            "margin": null,
            "display": null,
            "left": null
          }
        },
        "f8b007221bb846cd8f1022fb69f083bc": {
          "model_module": "@jupyter-widgets/controls",
          "model_name": "DescriptionStyleModel",
          "state": {
            "_view_name": "StyleView",
            "_model_name": "DescriptionStyleModel",
            "description_width": "",
            "_view_module": "@jupyter-widgets/base",
            "_model_module_version": "1.5.0",
            "_view_count": null,
            "_view_module_version": "1.2.0",
            "_model_module": "@jupyter-widgets/controls"
          }
        },
        "ff488fbfd65243639d1f641c42b40c69": {
          "model_module": "@jupyter-widgets/base",
          "model_name": "LayoutModel",
          "state": {
            "_view_name": "LayoutView",
            "grid_template_rows": null,
            "right": null,
            "justify_content": null,
            "_view_module": "@jupyter-widgets/base",
            "overflow": null,
            "_model_module_version": "1.2.0",
            "_view_count": null,
            "flex_flow": null,
            "width": null,
            "min_width": null,
            "border": null,
            "align_items": null,
            "bottom": null,
            "_model_module": "@jupyter-widgets/base",
            "top": null,
            "grid_column": null,
            "overflow_y": null,
            "overflow_x": null,
            "grid_auto_flow": null,
            "grid_area": null,
            "grid_template_columns": null,
            "flex": null,
            "_model_name": "LayoutModel",
            "justify_items": null,
            "grid_row": null,
            "max_height": null,
            "align_content": null,
            "visibility": null,
            "align_self": null,
            "height": null,
            "min_height": null,
            "padding": null,
            "grid_auto_rows": null,
            "grid_gap": null,
            "max_width": null,
            "order": null,
            "_view_module_version": "1.2.0",
            "grid_template_areas": null,
            "object_position": null,
            "object_fit": null,
            "grid_auto_columns": null,
            "margin": null,
            "display": null,
            "left": null
          }
        },
        "5b971ffec38e487da83c47556c1919f1": {
          "model_module": "@jupyter-widgets/controls",
          "model_name": "HBoxModel",
          "state": {
            "_view_name": "HBoxView",
            "_dom_classes": [],
            "_model_name": "HBoxModel",
            "_view_module": "@jupyter-widgets/controls",
            "_model_module_version": "1.5.0",
            "_view_count": null,
            "_view_module_version": "1.5.0",
            "box_style": "",
            "layout": "IPY_MODEL_6b2d3b30d43d43c5a8faa3756c123eac",
            "_model_module": "@jupyter-widgets/controls",
            "children": [
              "IPY_MODEL_731add0204354cdbace16f6f934e2de7",
              "IPY_MODEL_4359de6ae64c4bbdba831799ebdf36d3"
            ]
          }
        },
        "6b2d3b30d43d43c5a8faa3756c123eac": {
          "model_module": "@jupyter-widgets/base",
          "model_name": "LayoutModel",
          "state": {
            "_view_name": "LayoutView",
            "grid_template_rows": null,
            "right": null,
            "justify_content": null,
            "_view_module": "@jupyter-widgets/base",
            "overflow": null,
            "_model_module_version": "1.2.0",
            "_view_count": null,
            "flex_flow": null,
            "width": null,
            "min_width": null,
            "border": null,
            "align_items": null,
            "bottom": null,
            "_model_module": "@jupyter-widgets/base",
            "top": null,
            "grid_column": null,
            "overflow_y": null,
            "overflow_x": null,
            "grid_auto_flow": null,
            "grid_area": null,
            "grid_template_columns": null,
            "flex": null,
            "_model_name": "LayoutModel",
            "justify_items": null,
            "grid_row": null,
            "max_height": null,
            "align_content": null,
            "visibility": null,
            "align_self": null,
            "height": null,
            "min_height": null,
            "padding": null,
            "grid_auto_rows": null,
            "grid_gap": null,
            "max_width": null,
            "order": null,
            "_view_module_version": "1.2.0",
            "grid_template_areas": null,
            "object_position": null,
            "object_fit": null,
            "grid_auto_columns": null,
            "margin": null,
            "display": null,
            "left": null
          }
        },
        "731add0204354cdbace16f6f934e2de7": {
          "model_module": "@jupyter-widgets/controls",
          "model_name": "IntProgressModel",
          "state": {
            "_view_name": "ProgressView",
            "style": "IPY_MODEL_4751f55ab26a405c874ea99041fcdff0",
            "_dom_classes": [],
            "description": "epoch 3: 100%",
            "_model_name": "IntProgressModel",
            "bar_style": "success",
            "max": 1338,
            "_view_module": "@jupyter-widgets/controls",
            "_model_module_version": "1.5.0",
            "value": 1338,
            "_view_count": null,
            "_view_module_version": "1.5.0",
            "orientation": "horizontal",
            "min": 0,
            "description_tooltip": null,
            "_model_module": "@jupyter-widgets/controls",
            "layout": "IPY_MODEL_0eebb33e3a36488bae61b42250992397"
          }
        },
        "4359de6ae64c4bbdba831799ebdf36d3": {
          "model_module": "@jupyter-widgets/controls",
          "model_name": "HTMLModel",
          "state": {
            "_view_name": "HTMLView",
            "style": "IPY_MODEL_7e4da67e63434cf4b8662ede5c2bf95d",
            "_dom_classes": [],
            "description": "",
            "_model_name": "HTMLModel",
            "placeholder": "​",
            "_view_module": "@jupyter-widgets/controls",
            "_model_module_version": "1.5.0",
            "value": " 1338/1338 [28:24&lt;00:00,  1.27s/it, loss=0.46735]",
            "_view_count": null,
            "_view_module_version": "1.5.0",
            "description_tooltip": null,
            "_model_module": "@jupyter-widgets/controls",
            "layout": "IPY_MODEL_e5ba0c6f16fb43f793fcb1b534d754c4"
          }
        },
        "4751f55ab26a405c874ea99041fcdff0": {
          "model_module": "@jupyter-widgets/controls",
          "model_name": "ProgressStyleModel",
          "state": {
            "_view_name": "StyleView",
            "_model_name": "ProgressStyleModel",
            "description_width": "initial",
            "_view_module": "@jupyter-widgets/base",
            "_model_module_version": "1.5.0",
            "_view_count": null,
            "_view_module_version": "1.2.0",
            "bar_color": null,
            "_model_module": "@jupyter-widgets/controls"
          }
        },
        "0eebb33e3a36488bae61b42250992397": {
          "model_module": "@jupyter-widgets/base",
          "model_name": "LayoutModel",
          "state": {
            "_view_name": "LayoutView",
            "grid_template_rows": null,
            "right": null,
            "justify_content": null,
            "_view_module": "@jupyter-widgets/base",
            "overflow": null,
            "_model_module_version": "1.2.0",
            "_view_count": null,
            "flex_flow": null,
            "width": null,
            "min_width": null,
            "border": null,
            "align_items": null,
            "bottom": null,
            "_model_module": "@jupyter-widgets/base",
            "top": null,
            "grid_column": null,
            "overflow_y": null,
            "overflow_x": null,
            "grid_auto_flow": null,
            "grid_area": null,
            "grid_template_columns": null,
            "flex": null,
            "_model_name": "LayoutModel",
            "justify_items": null,
            "grid_row": null,
            "max_height": null,
            "align_content": null,
            "visibility": null,
            "align_self": null,
            "height": null,
            "min_height": null,
            "padding": null,
            "grid_auto_rows": null,
            "grid_gap": null,
            "max_width": null,
            "order": null,
            "_view_module_version": "1.2.0",
            "grid_template_areas": null,
            "object_position": null,
            "object_fit": null,
            "grid_auto_columns": null,
            "margin": null,
            "display": null,
            "left": null
          }
        },
        "7e4da67e63434cf4b8662ede5c2bf95d": {
          "model_module": "@jupyter-widgets/controls",
          "model_name": "DescriptionStyleModel",
          "state": {
            "_view_name": "StyleView",
            "_model_name": "DescriptionStyleModel",
            "description_width": "",
            "_view_module": "@jupyter-widgets/base",
            "_model_module_version": "1.5.0",
            "_view_count": null,
            "_view_module_version": "1.2.0",
            "_model_module": "@jupyter-widgets/controls"
          }
        },
        "e5ba0c6f16fb43f793fcb1b534d754c4": {
          "model_module": "@jupyter-widgets/base",
          "model_name": "LayoutModel",
          "state": {
            "_view_name": "LayoutView",
            "grid_template_rows": null,
            "right": null,
            "justify_content": null,
            "_view_module": "@jupyter-widgets/base",
            "overflow": null,
            "_model_module_version": "1.2.0",
            "_view_count": null,
            "flex_flow": null,
            "width": null,
            "min_width": null,
            "border": null,
            "align_items": null,
            "bottom": null,
            "_model_module": "@jupyter-widgets/base",
            "top": null,
            "grid_column": null,
            "overflow_y": null,
            "overflow_x": null,
            "grid_auto_flow": null,
            "grid_area": null,
            "grid_template_columns": null,
            "flex": null,
            "_model_name": "LayoutModel",
            "justify_items": null,
            "grid_row": null,
            "max_height": null,
            "align_content": null,
            "visibility": null,
            "align_self": null,
            "height": null,
            "min_height": null,
            "padding": null,
            "grid_auto_rows": null,
            "grid_gap": null,
            "max_width": null,
            "order": null,
            "_view_module_version": "1.2.0",
            "grid_template_areas": null,
            "object_position": null,
            "object_fit": null,
            "grid_auto_columns": null,
            "margin": null,
            "display": null,
            "left": null
          }
        },
        "f444b6eb38714d50a81c25b675676e68": {
          "model_module": "@jupyter-widgets/controls",
          "model_name": "HBoxModel",
          "state": {
            "_view_name": "HBoxView",
            "_dom_classes": [],
            "_model_name": "HBoxModel",
            "_view_module": "@jupyter-widgets/controls",
            "_model_module_version": "1.5.0",
            "_view_count": null,
            "_view_module_version": "1.5.0",
            "box_style": "",
            "layout": "IPY_MODEL_90e0b850693c4e64af870028730a3a33",
            "_model_module": "@jupyter-widgets/controls",
            "children": [
              "IPY_MODEL_2853a62ba8ad4028a340bca559626a1a",
              "IPY_MODEL_5a2e6dfb7186482ba92dc51315fb22aa"
            ]
          }
        },
        "90e0b850693c4e64af870028730a3a33": {
          "model_module": "@jupyter-widgets/base",
          "model_name": "LayoutModel",
          "state": {
            "_view_name": "LayoutView",
            "grid_template_rows": null,
            "right": null,
            "justify_content": null,
            "_view_module": "@jupyter-widgets/base",
            "overflow": null,
            "_model_module_version": "1.2.0",
            "_view_count": null,
            "flex_flow": null,
            "width": null,
            "min_width": null,
            "border": null,
            "align_items": null,
            "bottom": null,
            "_model_module": "@jupyter-widgets/base",
            "top": null,
            "grid_column": null,
            "overflow_y": null,
            "overflow_x": null,
            "grid_auto_flow": null,
            "grid_area": null,
            "grid_template_columns": null,
            "flex": null,
            "_model_name": "LayoutModel",
            "justify_items": null,
            "grid_row": null,
            "max_height": null,
            "align_content": null,
            "visibility": null,
            "align_self": null,
            "height": null,
            "min_height": null,
            "padding": null,
            "grid_auto_rows": null,
            "grid_gap": null,
            "max_width": null,
            "order": null,
            "_view_module_version": "1.2.0",
            "grid_template_areas": null,
            "object_position": null,
            "object_fit": null,
            "grid_auto_columns": null,
            "margin": null,
            "display": null,
            "left": null
          }
        },
        "2853a62ba8ad4028a340bca559626a1a": {
          "model_module": "@jupyter-widgets/controls",
          "model_name": "IntProgressModel",
          "state": {
            "_view_name": "ProgressView",
            "style": "IPY_MODEL_97db00f2986c4f0f8c499dc9e275d331",
            "_dom_classes": [],
            "description": "epoch 4: 100%",
            "_model_name": "IntProgressModel",
            "bar_style": "success",
            "max": 1338,
            "_view_module": "@jupyter-widgets/controls",
            "_model_module_version": "1.5.0",
            "value": 1338,
            "_view_count": null,
            "_view_module_version": "1.5.0",
            "orientation": "horizontal",
            "min": 0,
            "description_tooltip": null,
            "_model_module": "@jupyter-widgets/controls",
            "layout": "IPY_MODEL_b615275e33c54baea4b9b0b53ce45957"
          }
        },
        "5a2e6dfb7186482ba92dc51315fb22aa": {
          "model_module": "@jupyter-widgets/controls",
          "model_name": "HTMLModel",
          "state": {
            "_view_name": "HTMLView",
            "style": "IPY_MODEL_b121783fa366412ebf54cdc19a72b90a",
            "_dom_classes": [],
            "description": "",
            "_model_name": "HTMLModel",
            "placeholder": "​",
            "_view_module": "@jupyter-widgets/controls",
            "_model_module_version": "1.5.0",
            "value": " 1338/1338 [28:21&lt;00:00,  1.27s/it, loss=0.29479]",
            "_view_count": null,
            "_view_module_version": "1.5.0",
            "description_tooltip": null,
            "_model_module": "@jupyter-widgets/controls",
            "layout": "IPY_MODEL_9114d16ba7a543fe9a1591d10df5673d"
          }
        },
        "97db00f2986c4f0f8c499dc9e275d331": {
          "model_module": "@jupyter-widgets/controls",
          "model_name": "ProgressStyleModel",
          "state": {
            "_view_name": "StyleView",
            "_model_name": "ProgressStyleModel",
            "description_width": "initial",
            "_view_module": "@jupyter-widgets/base",
            "_model_module_version": "1.5.0",
            "_view_count": null,
            "_view_module_version": "1.2.0",
            "bar_color": null,
            "_model_module": "@jupyter-widgets/controls"
          }
        },
        "b615275e33c54baea4b9b0b53ce45957": {
          "model_module": "@jupyter-widgets/base",
          "model_name": "LayoutModel",
          "state": {
            "_view_name": "LayoutView",
            "grid_template_rows": null,
            "right": null,
            "justify_content": null,
            "_view_module": "@jupyter-widgets/base",
            "overflow": null,
            "_model_module_version": "1.2.0",
            "_view_count": null,
            "flex_flow": null,
            "width": null,
            "min_width": null,
            "border": null,
            "align_items": null,
            "bottom": null,
            "_model_module": "@jupyter-widgets/base",
            "top": null,
            "grid_column": null,
            "overflow_y": null,
            "overflow_x": null,
            "grid_auto_flow": null,
            "grid_area": null,
            "grid_template_columns": null,
            "flex": null,
            "_model_name": "LayoutModel",
            "justify_items": null,
            "grid_row": null,
            "max_height": null,
            "align_content": null,
            "visibility": null,
            "align_self": null,
            "height": null,
            "min_height": null,
            "padding": null,
            "grid_auto_rows": null,
            "grid_gap": null,
            "max_width": null,
            "order": null,
            "_view_module_version": "1.2.0",
            "grid_template_areas": null,
            "object_position": null,
            "object_fit": null,
            "grid_auto_columns": null,
            "margin": null,
            "display": null,
            "left": null
          }
        },
        "b121783fa366412ebf54cdc19a72b90a": {
          "model_module": "@jupyter-widgets/controls",
          "model_name": "DescriptionStyleModel",
          "state": {
            "_view_name": "StyleView",
            "_model_name": "DescriptionStyleModel",
            "description_width": "",
            "_view_module": "@jupyter-widgets/base",
            "_model_module_version": "1.5.0",
            "_view_count": null,
            "_view_module_version": "1.2.0",
            "_model_module": "@jupyter-widgets/controls"
          }
        },
        "9114d16ba7a543fe9a1591d10df5673d": {
          "model_module": "@jupyter-widgets/base",
          "model_name": "LayoutModel",
          "state": {
            "_view_name": "LayoutView",
            "grid_template_rows": null,
            "right": null,
            "justify_content": null,
            "_view_module": "@jupyter-widgets/base",
            "overflow": null,
            "_model_module_version": "1.2.0",
            "_view_count": null,
            "flex_flow": null,
            "width": null,
            "min_width": null,
            "border": null,
            "align_items": null,
            "bottom": null,
            "_model_module": "@jupyter-widgets/base",
            "top": null,
            "grid_column": null,
            "overflow_y": null,
            "overflow_x": null,
            "grid_auto_flow": null,
            "grid_area": null,
            "grid_template_columns": null,
            "flex": null,
            "_model_name": "LayoutModel",
            "justify_items": null,
            "grid_row": null,
            "max_height": null,
            "align_content": null,
            "visibility": null,
            "align_self": null,
            "height": null,
            "min_height": null,
            "padding": null,
            "grid_auto_rows": null,
            "grid_gap": null,
            "max_width": null,
            "order": null,
            "_view_module_version": "1.2.0",
            "grid_template_areas": null,
            "object_position": null,
            "object_fit": null,
            "grid_auto_columns": null,
            "margin": null,
            "display": null,
            "left": null
          }
        }
      }
    }
  },
  "cells": [
    {
      "cell_type": "markdown",
      "metadata": {
        "id": "uPSxjQa5DQOL",
        "colab_type": "text"
      },
      "source": [
        "**Assignment 6**\n",
        "\n",
        "[3 points] Delelop language model, which generates texts from wikipedia.\n",
        "Use WikiText-2 dataset, also available in torchtext.datasets.\n",
        "Use sentencepiece or tokenizers library for text tokenization. Pay attention to vocab size, probably subword tokens are better.\n",
        "\n",
        "Your model should be autogressive RNN.\n",
        "\n",
        "[1 point] Plot train and validation loss depending on the number of iterations of gradient decent.\n",
        "\n",
        "[1 point] Try to use together (sentencepiece or tokenizers), torchtext.datasets, and torchtext.data.BPTTIterator\n"
      ]
    },
    {
      "cell_type": "markdown",
      "metadata": {
        "id": "Xewb0b0eDdsI",
        "colab_type": "text"
      },
      "source": [
        "Text generation should be terminated when either max length is reached or terminal symbol is generated.\n",
        "Explore several inference techniques:\n",
        "\n",
        "[1 point] Argmax\n",
        "\n",
        "[1 point] Beamsearch\n",
        "\n",
        "[1 point] Sampling from probabilty distribution with temperature\n",
        "\n",
        "[1 point] Nucleus sampling\n",
        "\n",
        "[1 point] Top-k sampling\n",
        "\n",
        "For every method you should provide implemented code and generated examples. Each example must contain at least 10 words (not subword tokens)."
      ]
    },
    {
      "cell_type": "code",
      "metadata": {
        "id": "KAIOCSOcxr4y",
        "colab_type": "code",
        "outputId": "2df85da2-a6c6-47eb-cfd1-86bcae494dbf",
        "colab": {
          "base_uri": "https://localhost:8080/",
          "height": 34
        }
      },
      "source": [
        "pip install tokenizers"
      ],
      "execution_count": 1,
      "outputs": [
        {
          "output_type": "stream",
          "text": [
            "Requirement already satisfied: tokenizers in /usr/local/lib/python3.6/dist-packages (0.6.0)\n"
          ],
          "name": "stdout"
        }
      ]
    },
    {
      "cell_type": "code",
      "metadata": {
        "id": "7ba2h6TwDH6C",
        "colab_type": "code",
        "colab": {}
      },
      "source": [
        "import pandas as pd\n",
        "import numpy as np\n",
        "import nltk\n",
        "import spacy\n",
        "\n",
        "from sklearn import metrics\n",
        "\n",
        "import torch as tt\n",
        "import torch.nn as nn\n",
        "import torch.nn.functional as F\n",
        "import torch.optim as optim\n",
        "from torch.autograd import Variable\n",
        "\n",
        "from torchtext.data import Field, LabelField, RawField, BPTTIterator\n",
        "from torchtext.datasets import WikiText2\n",
        "\n",
        "from tokenizers import SentencePieceBPETokenizer\n",
        "\n",
        "from tqdm import tqdm\n",
        "from tqdm import tqdm_notebook\n",
        "\n",
        "SEED = 42\n",
        "np.random.seed(SEED)"
      ],
      "execution_count": 0,
      "outputs": []
    },
    {
      "cell_type": "code",
      "metadata": {
        "id": "PtoFRP5VxnTT",
        "colab_type": "code",
        "outputId": "6e6d501e-a6a1-43eb-d3df-76720431e809",
        "colab": {
          "base_uri": "https://localhost:8080/",
          "height": 34
        }
      },
      "source": [
        "WikiText2.download(root = '/content/gdrive/My Drive/Colab Notebooks')"
      ],
      "execution_count": 3,
      "outputs": [
        {
          "output_type": "execute_result",
          "data": {
            "text/plain": [
              "'/content/gdrive/My Drive/Colab Notebooks/wikitext-2/wikitext-2'"
            ]
          },
          "metadata": {
            "tags": []
          },
          "execution_count": 3
        }
      ]
    },
    {
      "cell_type": "code",
      "metadata": {
        "id": "JZZl78T5ETNe",
        "colab_type": "code",
        "colab": {}
      },
      "source": [
        "parts = ['train','valid','test']\n",
        "path = '/content/gdrive/My Drive/Colab Notebooks/wikitext-2/wikitext-2'\n",
        "for i in parts:\n",
        "  f_name = path + f'/wiki.{i}.tokens'\n",
        "  with open(f_name, 'r') as f:\n",
        "    if i == 'train':\n",
        "      train = f.read()\n",
        "    elif i == 'valid':\n",
        "      valid = f.read()\n",
        "    elif i == 'test':\n",
        "      test = f.read()"
      ],
      "execution_count": 0,
      "outputs": []
    },
    {
      "cell_type": "code",
      "metadata": {
        "id": "xnjpg6bnD9fj",
        "colab_type": "code",
        "outputId": "cef8df48-01c0-4431-81d0-3366cdc1555f",
        "colab": {
          "base_uri": "https://localhost:8080/",
          "height": 68
        }
      },
      "source": [
        "print(f'Train length = {len(train):7}')\n",
        "print(f'Valid length = {len(valid):8}')\n",
        "print(f'Test length  = {len(test):8}')"
      ],
      "execution_count": 5,
      "outputs": [
        {
          "output_type": "stream",
          "text": [
            "Train length = 10780437\n",
            "Valid length =  1120192\n",
            "Test length  =  1255018\n"
          ],
          "name": "stdout"
        }
      ]
    },
    {
      "cell_type": "code",
      "metadata": {
        "id": "QgvCLd0t9vuy",
        "colab_type": "code",
        "outputId": "d46b5707-a228-4255-e789-f02275f5422f",
        "colab": {
          "base_uri": "https://localhost:8080/",
          "height": 34
        }
      },
      "source": [
        "tokenizer = SentencePieceBPETokenizer()\n",
        "tokenizer.add_special_tokens(['<unk>'])"
      ],
      "execution_count": 6,
      "outputs": [
        {
          "output_type": "execute_result",
          "data": {
            "text/plain": [
              "1"
            ]
          },
          "metadata": {
            "tags": []
          },
          "execution_count": 6
        }
      ]
    },
    {
      "cell_type": "code",
      "metadata": {
        "id": "-FXwO3b4A7hu",
        "colab_type": "code",
        "colab": {}
      },
      "source": [
        "path = '/content/gdrive/My Drive/Colab Notebooks/wikitext-2/wikitext-2'\n",
        "train_text = path + '/wiki.train.tokens'\n",
        "valid_text = path + '/wiki.valid.tokens'\n",
        "test_text = path + '/wiki.test.tokens'\n",
        "tokenizer.train([train_text, valid_text, test_text], vocab_size=10000)"
      ],
      "execution_count": 0,
      "outputs": []
    },
    {
      "cell_type": "code",
      "metadata": {
        "id": "_6fZjZXeI2Ur",
        "colab_type": "code",
        "colab": {}
      },
      "source": [
        "def tok_func(tokenizer, text):\n",
        "  return tokenizer.encode(text).tokens"
      ],
      "execution_count": 0,
      "outputs": []
    },
    {
      "cell_type": "code",
      "metadata": {
        "id": "kW4qz6_CIQEY",
        "colab_type": "code",
        "colab": {
          "base_uri": "https://localhost:8080/",
          "height": 51
        },
        "outputId": "2fd6f5f7-da13-4f04-d5b9-09a3790fab39"
      },
      "source": [
        "TEXT = Field(sequential=True, include_lengths=False, batch_first=True, tokenize=lambda x: tok_func(tokenizer, x),lower=True, pad_first=True)\n",
        "train, valid, test = WikiText2.splits(TEXT)\n",
        "\n",
        "TEXT.build_vocab(train, valid, test)\n",
        "vocab = TEXT.vocab\n",
        "\n",
        "print('Vocab size:', len(TEXT.vocab.itos))\n",
        "TEXT.vocab.itos[:10]"
      ],
      "execution_count": 12,
      "outputs": [
        {
          "output_type": "stream",
          "text": [
            "Vocab size: 8571\n"
          ],
          "name": "stdout"
        },
        {
          "output_type": "execute_result",
          "data": {
            "text/plain": [
              "['<unk>', '<pad>', '▁the', '▁', '▁,', '▁.', '▁of', '▁and', '▁in', '▁to']"
            ]
          },
          "metadata": {
            "tags": []
          },
          "execution_count": 12
        }
      ]
    },
    {
      "cell_type": "code",
      "metadata": {
        "id": "VLV83yyCJjbb",
        "colab_type": "code",
        "colab": {}
      },
      "source": [
        "device = tt.device('cuda') if tt.cuda.is_available() else tt.device('cpu')"
      ],
      "execution_count": 0,
      "outputs": []
    },
    {
      "cell_type": "code",
      "metadata": {
        "id": "YsxwWGhEFxYn",
        "colab_type": "code",
        "colab": {}
      },
      "source": [
        "train_iter, valid_iter, test_iter = BPTTIterator.splits((train, valid, test),\n",
        "    batch_size=64,\n",
        "    bptt_len=30,\n",
        "    repeat=False,\n",
        "    device=device)"
      ],
      "execution_count": 0,
      "outputs": []
    },
    {
      "cell_type": "code",
      "metadata": {
        "id": "BE5xaJBRJndr",
        "colab_type": "code",
        "outputId": "34234a63-c727-4d82-8675-9e9f4028dcf0",
        "colab": {
          "base_uri": "https://localhost:8080/",
          "height": 51
        }
      },
      "source": [
        "batch = next(iter(train_iter))\n",
        "print(batch.text[:3, 0])\n",
        "print(batch.target[:3, 0])"
      ],
      "execution_count": 15,
      "outputs": [
        {
          "output_type": "stream",
          "text": [
            "tensor([ 3, 11, 12])\n",
            "tensor([  11,   12, 6854])\n"
          ],
          "name": "stdout"
        }
      ]
    },
    {
      "cell_type": "markdown",
      "metadata": {
        "id": "sgmQpIz-jDUR",
        "colab_type": "text"
      },
      "source": [
        "# Training model"
      ]
    },
    {
      "cell_type": "code",
      "metadata": {
        "id": "aFlJ6BCfK6EK",
        "colab_type": "code",
        "colab": {}
      },
      "source": [
        "class MyModel(nn.Module):\n",
        "    \n",
        "    def __init__(self, vocab_size, embed_size, hidden_size):\n",
        "        super(MyModel, self).__init__()\n",
        "        self.embedding = nn.Embedding(vocab_size, embed_size)\n",
        "        \n",
        "        self.rnn = nn.LSTM(input_size=embed_size,\n",
        "                           hidden_size=hidden_size,\n",
        "                           bidirectional=True,\n",
        "                           batch_first=True,\n",
        "                          )\n",
        "        \n",
        "        self.fc = nn.Linear(hidden_size * 2, vocab_size)\n",
        "        \n",
        "        self.init_weights()\n",
        "        \n",
        "    def init_weights(self):\n",
        "        nn.init.uniform_(self.embedding.weight)\n",
        "        nn.init.xavier_uniform_(self.fc.weight)\n",
        "        nn.init.zeros_(self.fc.bias)\n",
        "        \n",
        "    def forward(self, batch):\n",
        "\n",
        "        if hasattr(batch, 'text'):\n",
        "          x = batch.text.T\n",
        "        else:\n",
        "          x = batch\n",
        "        \n",
        "        x = self.embedding(x)\n",
        "        x, _ = self.rnn(x)\n",
        "        x = self.fc(x)\n",
        "        \n",
        "        return x.transpose(1,2)"
      ],
      "execution_count": 0,
      "outputs": []
    },
    {
      "cell_type": "code",
      "metadata": {
        "id": "_i1x10OGRqG0",
        "colab_type": "code",
        "colab": {}
      },
      "source": [
        "batch_size = 64\n",
        "\n",
        "model = MyModel(vocab_size=len(TEXT.vocab.itos),\n",
        "                embed_size=100,\n",
        "                hidden_size=128,\n",
        "               )\n",
        "\n",
        "optimizer = optim.Adam(model.parameters())\n",
        "scheduler = optim.lr_scheduler.CosineAnnealingLR(optimizer, T_max=5)\n",
        "criterion = nn.CrossEntropyLoss(ignore_index=1)\n",
        "\n",
        "model = model.to(device)\n",
        "criterion = criterion.to(device)\n"
      ],
      "execution_count": 0,
      "outputs": []
    },
    {
      "cell_type": "code",
      "metadata": {
        "id": "_68mbIJqPBbB",
        "colab_type": "code",
        "colab": {}
      },
      "source": [
        "def _train_epoch(model, iterator, optimizer, criterion, curr_epoch):\n",
        "\n",
        "    model.train()\n",
        "\n",
        "    running_loss = 0\n",
        "\n",
        "    train_losses = []\n",
        "\n",
        "    n_batches = len(iterator)\n",
        "    iterator = tqdm_notebook(iterator, total=n_batches, desc='epoch %d' % (curr_epoch), leave=True)\n",
        "\n",
        "    for i, batch in enumerate(iterator):\n",
        "        optimizer.zero_grad()\n",
        "\n",
        "        pred = model(batch)\n",
        "        loss = criterion(pred, batch.target.T)\n",
        "        loss.backward()\n",
        "        optimizer.step()\n",
        "\n",
        "        train_losses.append(loss.item())\n",
        "\n",
        "        curr_loss = loss.data.cpu().detach().item()\n",
        "        loss_smoothing = i / (i+1)\n",
        "        running_loss = loss_smoothing * running_loss + (1 - loss_smoothing) * curr_loss\n",
        "\n",
        "        iterator.set_postfix(loss='%.5f' % running_loss)\n",
        "\n",
        "    return running_loss, train_losses"
      ],
      "execution_count": 0,
      "outputs": []
    },
    {
      "cell_type": "code",
      "metadata": {
        "id": "1KJOiwbUTkxc",
        "colab_type": "code",
        "colab": {}
      },
      "source": [
        "def _test_epoch(model, iterator, criterion):\n",
        "    model.eval()\n",
        "    epoch_loss = 0\n",
        "    n_batches = len(iterator)\n",
        "\n",
        "    valid_losses = []\n",
        "\n",
        "    with tt.no_grad():\n",
        "        for batch in iterator:\n",
        "            pred = model(batch)\n",
        "            loss = criterion(pred, batch.target.T)\n",
        "            epoch_loss += loss.data.item()\n",
        "\n",
        "            valid_losses.append(loss.item())\n",
        "\n",
        "    return epoch_loss / n_batches, valid_losses"
      ],
      "execution_count": 0,
      "outputs": []
    },
    {
      "cell_type": "code",
      "metadata": {
        "id": "ax8T81W7Tn1V",
        "colab_type": "code",
        "colab": {}
      },
      "source": [
        "def nn_train(model, train_iterator, valid_iterator, criterion, optimizer, n_epochs=100,\n",
        "          scheduler=None, early_stopping=0):\n",
        "\n",
        "    prev_loss = 100500\n",
        "    es_epochs = 0\n",
        "    best_epoch = None\n",
        "    history = pd.DataFrame()\n",
        "\n",
        "    all_train_losses = []\n",
        "    all_valid_losses = []\n",
        "\n",
        "    for epoch in range(n_epochs):\n",
        "        train_loss, i_train_losses = _train_epoch(model, train_iterator, optimizer, criterion, epoch)\n",
        "        valid_loss, i_valid_losses = _test_epoch(model, valid_iterator, criterion)\n",
        "        all_train_losses.append(i_train_losses)\n",
        "        all_valid_losses.append(i_valid_losses)\n",
        "\n",
        "        valid_loss = valid_loss\n",
        "        print('validation loss %.5f' % valid_loss)\n",
        "\n",
        "        record = {'epoch': epoch, 'train_loss': train_loss, 'valid_loss': valid_loss}\n",
        "        history = history.append(record, ignore_index=True)\n",
        "\n",
        "        if early_stopping > 0:\n",
        "            if valid_loss > prev_loss:\n",
        "                es_epochs += 1\n",
        "            else:\n",
        "                es_epochs = 0\n",
        "\n",
        "            if es_epochs >= early_stopping:\n",
        "                best_epoch = history[history.valid_loss == history.valid_loss.min()].iloc[0]\n",
        "                print('Early stopping! best epoch: %d val %.5f' % (best_epoch['epoch'], best_epoch['valid_loss']))\n",
        "                break\n",
        "\n",
        "            prev_loss = min(prev_loss, valid_loss)\n",
        "    return history, all_train_losses, all_valid_losses"
      ],
      "execution_count": 0,
      "outputs": []
    },
    {
      "cell_type": "code",
      "metadata": {
        "id": "kUhvG9h7Weh1",
        "colab_type": "code",
        "outputId": "41174a48-4d4d-4c82-b897-2c43ab5b4c4e",
        "colab": {
          "base_uri": "https://localhost:8080/",
          "height": 398,
          "referenced_widgets": [
            "e0c2ce9dea9e4beb8a9c04ba41380561",
            "e0a8890419664ce4a99f7f055e5a57c3",
            "e4e300f653a04126ba1b46bccaa203b5",
            "5da9a3a2c4c448e6ab22a5d6d0dfe63b",
            "932e17516083454397e9a3f1d1537193",
            "bdbeb5852f6c46c2a6410135e306f8ea",
            "e38707b2b3164ebfbfca1b9c1fe8bdcb",
            "ec6aa309d22d49b3a9b90b7d969e4b4e",
            "2db767d2896544568cb6ff72788543ad",
            "d46e0ebe5a0648f893d93ace6ad9c24f",
            "64cb97e3eaf84a6bb5f9d68417c2381b",
            "88d8c3034d8d4168b8887e73c91a9c36",
            "29f5b7f451a2432081849c772d7109ee",
            "8a0a7380f34040bbbaae8a5d9cde0473",
            "dd15089b9ff0428fa8aa5765174115e6",
            "89c2cace99924c08a2485f04c249536c",
            "eafc3e0fbe844074a514ad152fe6c443",
            "3d35d9a2d07e48f6903ac762b63ad681",
            "4b04c92b7e654902b6738bafc245e5ce",
            "080c95accad84aeba41bf00d54a6abd1",
            "4119e702bf7d4dd794b79e3eb9a4a8d7",
            "22bf813614a245588b40b29c8518dedd",
            "f8b007221bb846cd8f1022fb69f083bc",
            "ff488fbfd65243639d1f641c42b40c69",
            "5b971ffec38e487da83c47556c1919f1",
            "6b2d3b30d43d43c5a8faa3756c123eac",
            "731add0204354cdbace16f6f934e2de7",
            "4359de6ae64c4bbdba831799ebdf36d3",
            "4751f55ab26a405c874ea99041fcdff0",
            "0eebb33e3a36488bae61b42250992397",
            "7e4da67e63434cf4b8662ede5c2bf95d",
            "e5ba0c6f16fb43f793fcb1b534d754c4",
            "f444b6eb38714d50a81c25b675676e68",
            "90e0b850693c4e64af870028730a3a33",
            "2853a62ba8ad4028a340bca559626a1a",
            "5a2e6dfb7186482ba92dc51315fb22aa",
            "97db00f2986c4f0f8c499dc9e275d331",
            "b615275e33c54baea4b9b0b53ce45957",
            "b121783fa366412ebf54cdc19a72b90a",
            "9114d16ba7a543fe9a1591d10df5673d"
          ]
        }
      },
      "source": [
        "history_df, res_train_losses, res_valid_losses = nn_train(model, train_iter, valid_iter, criterion, optimizer, scheduler=scheduler, \n",
        "        n_epochs=5, early_stopping=2)"
      ],
      "execution_count": 21,
      "outputs": [
        {
          "output_type": "stream",
          "text": [
            "/usr/local/lib/python3.6/dist-packages/ipykernel_launcher.py:10: TqdmDeprecationWarning: This function will be removed in tqdm==5.0.0\n",
            "Please use `tqdm.notebook.tqdm` instead of `tqdm.tqdm_notebook`\n",
            "  # Remove the CWD from sys.path while we load stuff.\n"
          ],
          "name": "stderr"
        },
        {
          "output_type": "display_data",
          "data": {
            "application/vnd.jupyter.widget-view+json": {
              "model_id": "e0c2ce9dea9e4beb8a9c04ba41380561",
              "version_minor": 0,
              "version_major": 2
            },
            "text/plain": [
              "HBox(children=(IntProgress(value=0, description='epoch 0', max=1338, style=ProgressStyle(description_width='in…"
            ]
          },
          "metadata": {
            "tags": []
          }
        },
        {
          "output_type": "stream",
          "text": [
            "\n",
            "validation loss 2.79120\n"
          ],
          "name": "stdout"
        },
        {
          "output_type": "display_data",
          "data": {
            "application/vnd.jupyter.widget-view+json": {
              "model_id": "2db767d2896544568cb6ff72788543ad",
              "version_minor": 0,
              "version_major": 2
            },
            "text/plain": [
              "HBox(children=(IntProgress(value=0, description='epoch 1', max=1338, style=ProgressStyle(description_width='in…"
            ]
          },
          "metadata": {
            "tags": []
          }
        },
        {
          "output_type": "stream",
          "text": [
            "\n",
            "validation loss 1.35951\n"
          ],
          "name": "stdout"
        },
        {
          "output_type": "display_data",
          "data": {
            "application/vnd.jupyter.widget-view+json": {
              "model_id": "eafc3e0fbe844074a514ad152fe6c443",
              "version_minor": 0,
              "version_major": 2
            },
            "text/plain": [
              "HBox(children=(IntProgress(value=0, description='epoch 2', max=1338, style=ProgressStyle(description_width='in…"
            ]
          },
          "metadata": {
            "tags": []
          }
        },
        {
          "output_type": "stream",
          "text": [
            "\n",
            "validation loss 0.68045\n"
          ],
          "name": "stdout"
        },
        {
          "output_type": "display_data",
          "data": {
            "application/vnd.jupyter.widget-view+json": {
              "model_id": "5b971ffec38e487da83c47556c1919f1",
              "version_minor": 0,
              "version_major": 2
            },
            "text/plain": [
              "HBox(children=(IntProgress(value=0, description='epoch 3', max=1338, style=ProgressStyle(description_width='in…"
            ]
          },
          "metadata": {
            "tags": []
          }
        },
        {
          "output_type": "stream",
          "text": [
            "\n",
            "validation loss 0.40613\n"
          ],
          "name": "stdout"
        },
        {
          "output_type": "display_data",
          "data": {
            "application/vnd.jupyter.widget-view+json": {
              "model_id": "f444b6eb38714d50a81c25b675676e68",
              "version_minor": 0,
              "version_major": 2
            },
            "text/plain": [
              "HBox(children=(IntProgress(value=0, description='epoch 4', max=1338, style=ProgressStyle(description_width='in…"
            ]
          },
          "metadata": {
            "tags": []
          }
        },
        {
          "output_type": "stream",
          "text": [
            "\n",
            "validation loss 0.29556\n"
          ],
          "name": "stdout"
        }
      ]
    },
    {
      "cell_type": "code",
      "metadata": {
        "id": "fvo0nicf47hf",
        "colab_type": "code",
        "colab": {}
      },
      "source": [
        "model = MyModel(vocab_size=len(TEXT.vocab.itos),\n",
        "                embed_size=200,\n",
        "                hidden_size=128,\n",
        "               )"
      ],
      "execution_count": 0,
      "outputs": []
    },
    {
      "cell_type": "code",
      "metadata": {
        "id": "GRzaHdiK5ok9",
        "colab_type": "code",
        "colab": {
          "base_uri": "https://localhost:8080/",
          "height": 88
        },
        "outputId": "1a63ead2-e498-4c98-af0f-491a51809674"
      },
      "source": [
        "from sklearn.externals import joblib\n",
        "joblib.dump(model, \"rnn_model.pkl\")"
      ],
      "execution_count": 23,
      "outputs": [
        {
          "output_type": "stream",
          "text": [
            "/usr/local/lib/python3.6/dist-packages/sklearn/externals/joblib/__init__.py:15: FutureWarning: sklearn.externals.joblib is deprecated in 0.21 and will be removed in 0.23. Please import this functionality directly from joblib, which can be installed with: pip install joblib. If this warning is raised when loading pickled models, you may need to re-serialize those models with scikit-learn 0.21+.\n",
            "  warnings.warn(msg, category=FutureWarning)\n"
          ],
          "name": "stderr"
        },
        {
          "output_type": "execute_result",
          "data": {
            "text/plain": [
              "['rnn_model.pkl']"
            ]
          },
          "metadata": {
            "tags": []
          },
          "execution_count": 23
        }
      ]
    },
    {
      "cell_type": "code",
      "metadata": {
        "id": "_e4e56Ju5pUX",
        "colab_type": "code",
        "colab": {}
      },
      "source": [
        "my_model = joblib.load(\"rnn_model.pkl\")"
      ],
      "execution_count": 0,
      "outputs": []
    },
    {
      "cell_type": "markdown",
      "metadata": {
        "id": "3p5UD8vQi2Wr",
        "colab_type": "text"
      },
      "source": [
        "# Plot"
      ]
    },
    {
      "cell_type": "code",
      "metadata": {
        "id": "MaZo5Cu9fLVl",
        "colab_type": "code",
        "outputId": "4e609a7d-be89-4c22-bfb9-a9b2ca0c831a",
        "colab": {
          "base_uri": "https://localhost:8080/",
          "height": 204
        }
      },
      "source": [
        "history_df"
      ],
      "execution_count": 26,
      "outputs": [
        {
          "output_type": "execute_result",
          "data": {
            "text/html": [
              "<div>\n",
              "<style scoped>\n",
              "    .dataframe tbody tr th:only-of-type {\n",
              "        vertical-align: middle;\n",
              "    }\n",
              "\n",
              "    .dataframe tbody tr th {\n",
              "        vertical-align: top;\n",
              "    }\n",
              "\n",
              "    .dataframe thead th {\n",
              "        text-align: right;\n",
              "    }\n",
              "</style>\n",
              "<table border=\"1\" class=\"dataframe\">\n",
              "  <thead>\n",
              "    <tr style=\"text-align: right;\">\n",
              "      <th></th>\n",
              "      <th>epoch</th>\n",
              "      <th>train_loss</th>\n",
              "      <th>valid_loss</th>\n",
              "    </tr>\n",
              "  </thead>\n",
              "  <tbody>\n",
              "    <tr>\n",
              "      <th>0</th>\n",
              "      <td>0.0</td>\n",
              "      <td>4.573957</td>\n",
              "      <td>2.791198</td>\n",
              "    </tr>\n",
              "    <tr>\n",
              "      <th>1</th>\n",
              "      <td>1.0</td>\n",
              "      <td>2.043530</td>\n",
              "      <td>1.359507</td>\n",
              "    </tr>\n",
              "    <tr>\n",
              "      <th>2</th>\n",
              "      <td>2.0</td>\n",
              "      <td>0.929708</td>\n",
              "      <td>0.680454</td>\n",
              "    </tr>\n",
              "    <tr>\n",
              "      <th>3</th>\n",
              "      <td>3.0</td>\n",
              "      <td>0.467348</td>\n",
              "      <td>0.406129</td>\n",
              "    </tr>\n",
              "    <tr>\n",
              "      <th>4</th>\n",
              "      <td>4.0</td>\n",
              "      <td>0.294789</td>\n",
              "      <td>0.295560</td>\n",
              "    </tr>\n",
              "  </tbody>\n",
              "</table>\n",
              "</div>"
            ],
            "text/plain": [
              "   epoch  train_loss  valid_loss\n",
              "0    0.0    4.573957    2.791198\n",
              "1    1.0    2.043530    1.359507\n",
              "2    2.0    0.929708    0.680454\n",
              "3    3.0    0.467348    0.406129\n",
              "4    4.0    0.294789    0.295560"
            ]
          },
          "metadata": {
            "tags": []
          },
          "execution_count": 26
        }
      ]
    },
    {
      "cell_type": "code",
      "metadata": {
        "id": "VCGUfyIUDDLN",
        "colab_type": "code",
        "colab": {}
      },
      "source": [
        "import matplotlib.pyplot as plt"
      ],
      "execution_count": 0,
      "outputs": []
    },
    {
      "cell_type": "code",
      "metadata": {
        "id": "1NZNaOQQ7Qtq",
        "colab_type": "code",
        "outputId": "7c8cff76-20d5-4956-8843-e94774b34b1b",
        "colab": {
          "base_uri": "https://localhost:8080/",
          "height": 393
        }
      },
      "source": [
        "plt.figure(figsize=(10,6))\n",
        "plt.plot(np.arange(len(history_df['train_loss'])), history_df['train_loss'], label='Train')\n",
        "plt.plot(np.arange(len(history_df['valid_loss'])), history_df['valid_loss'], label='Valid')\n",
        "plt.xlabel('Epochs', fontsize=15)\n",
        "plt.ylabel('Loss', fontsize=15)\n",
        "plt.legend(fontsize='x-large')\n",
        "plt.show()"
      ],
      "execution_count": 28,
      "outputs": [
        {
          "output_type": "display_data",
          "data": {
            "image/png": "[encoded data removed]",
            "text/plain": [
              "<Figure size 720x432 with 1 Axes>"
            ]
          },
          "metadata": {
            "tags": []
          }
        }
      ]
    },
    {
      "cell_type": "markdown",
      "metadata": {
        "id": "aARmKKAwi6w6",
        "colab_type": "text"
      },
      "source": [
        "# Prediction"
      ]
    },
    {
      "cell_type": "code",
      "metadata": {
        "id": "ZPkajwzSE6EE",
        "colab_type": "code",
        "outputId": "d8cf4341-9f38-438c-9348-6c121cf3dc2e",
        "colab": {
          "base_uri": "https://localhost:8080/",
          "height": 51
        }
      },
      "source": [
        "def num2text(sequence):\n",
        "  text = [TEXT.vocab.itos[v] for v in sequence]\n",
        "  return text\n",
        "\n",
        "print(batch.text[:10, 1])\n",
        "print(num2text(batch.text[:10, 1]))"
      ],
      "execution_count": 29,
      "outputs": [
        {
          "output_type": "stream",
          "text": [
            "tensor([   2, 3897,   31,   14,   93,  804,  129, 6604,  532,  120])\n",
            "['▁the', '▁myth', 's', '▁was', '▁more', '▁important', '▁than', '▁elaborate', '▁story', 't']\n"
          ],
          "name": "stdout"
        }
      ]
    },
    {
      "cell_type": "code",
      "metadata": {
        "id": "4FvYPOuTjp1Q",
        "colab_type": "code",
        "colab": {}
      },
      "source": [
        "def join_text(text_list): \n",
        "  s = num2text(text_list)\n",
        "  return ''.join(s).replace('▁', ' ').strip()"
      ],
      "execution_count": 0,
      "outputs": []
    },
    {
      "cell_type": "code",
      "metadata": {
        "id": "Au6gybD7kMlM",
        "colab_type": "code",
        "outputId": "4bdffc8d-c261-4fa2-baed-65cf1bd13853",
        "colab": {
          "base_uri": "https://localhost:8080/",
          "height": 34
        }
      },
      "source": [
        "join_text(batch.text[:10, 1])"
      ],
      "execution_count": 31,
      "outputs": [
        {
          "output_type": "execute_result",
          "data": {
            "text/plain": [
              "'the myths was more important than elaborate storyt'"
            ]
          },
          "metadata": {
            "tags": []
          },
          "execution_count": 31
        }
      ]
    },
    {
      "cell_type": "code",
      "metadata": {
        "id": "T_YRXXIpksfP",
        "colab_type": "code",
        "colab": {}
      },
      "source": [
        "def generate(model, func, start, max_len=30, eos='<eos>'):\n",
        "  token = start\n",
        "  with tt.no_grad():\n",
        "      seq = [token]\n",
        "      i = 0\n",
        "      while i < max_len and token != TEXT.vocab.stoi[eos]:\n",
        "        i += 1\n",
        "        pred = model(tt.tensor([seq]))[:,:,-1]\n",
        "        token = func(pred)\n",
        "        seq.append(token)\n",
        "\n",
        "  return join_text(seq)"
      ],
      "execution_count": 0,
      "outputs": []
    },
    {
      "cell_type": "markdown",
      "metadata": {
        "id": "phJ28KeA1nr1",
        "colab_type": "text"
      },
      "source": [
        "# Argmax"
      ]
    },
    {
      "cell_type": "code",
      "metadata": {
        "id": "Ur9Tw4GImuP_",
        "colab_type": "code",
        "colab": {}
      },
      "source": [
        "def argmax(pred):\n",
        "  return tt.argmax(pred).item()"
      ],
      "execution_count": 0,
      "outputs": []
    },
    {
      "cell_type": "code",
      "metadata": {
        "id": "9b6-cjFEmnyH",
        "colab_type": "code",
        "colab": {}
      },
      "source": [
        "seed = TEXT.vocab.stoi['myths']"
      ],
      "execution_count": 0,
      "outputs": []
    },
    {
      "cell_type": "code",
      "metadata": {
        "id": "tGVba1IYaLwa",
        "colab_type": "code",
        "colab": {
          "base_uri": "https://localhost:8080/",
          "height": 34
        },
        "outputId": "1024656b-8eb6-480a-9fe9-f5be570b928b"
      },
      "source": [
        "print(generate(my_model, argmax, start=seed))"
      ],
      "execution_count": 35,
      "outputs": [
        {
          "output_type": "stream",
          "text": [
            "<unk>agues stephenagues stephenagues stephenagues strategyfer election druagues strategyfer election druagues strategyfer election druagues strategyfer election druagues strategyfer election\n"
          ],
          "name": "stdout"
        }
      ]
    },
    {
      "cell_type": "markdown",
      "metadata": {
        "id": "GBDu1A6eaUPK",
        "colab_type": "text"
      },
      "source": [
        "## Beam search"
      ]
    },
    {
      "cell_type": "code",
      "metadata": {
        "id": "pdE2j3iyaXy6",
        "colab_type": "code",
        "colab": {}
      },
      "source": [
        "def beam_search(input_seq, model=model, max_length=35, k=3, end_token=vocab.stoi['<eos>']):\n",
        "    \"\"\"\n",
        "    imput_seq:  Torch tensor 1d\n",
        "    return: List of k sequences of token_ids.\n",
        "    \"\"\"\n",
        "    beam = [(input_seq, 0)]\n",
        "    start_tokens = input_seq.unsqueeze(0)\n",
        "    \n",
        "    with torch.no_grad():\n",
        "        counter = 0        \n",
        "        while counter < max_length:\n",
        "\n",
        "            candidates = []\n",
        "            counter += 1\n",
        "\n",
        "            for start, prob in beam:\n",
        "        \n",
        "                if (start[-1] == end_token) and counter >= 15:\n",
        "                    candidates.append(start)\n",
        "                \n",
        "                else:\n",
        "                    pred = my_model(start.unsqueeze(0)) #start_tokens\n",
        "                    pred = pred.transpose(1,2) # (batch_size, seq_length, vocab_size)\n",
        "\n",
        "                    sorted_idx = torch.argsort(pred, dim=2, descending=True)[0,-1,:][:k]\n",
        "                    sorted_logits = torch.sort(pred, dim=2, descending=True).values[0,-1,:][:k]\n",
        "\n",
        "                    candidates += [(torch.cat((start, sorted_idx[i].unsqueeze(0))), \n",
        "                                    prob + sorted_logits[i].item()) for  i in range(k)]\n",
        "            beam = sorted(candidates, key=lambda x:x[1])[:k] \n",
        "    return beam"
      ],
      "execution_count": 0,
      "outputs": []
    },
    {
      "cell_type": "code",
      "metadata": {
        "id": "a810sMsWaYcD",
        "colab_type": "code",
        "colab": {}
      },
      "source": [
        "import torch\n",
        "import re \n",
        "\n",
        "def decode(sequence):\n",
        "    return [vocab.itos[token] for token in sequence]\n",
        "\n",
        "def make_text(sequence):\n",
        "    \n",
        "    text = ''\n",
        "\n",
        "    for element in sequence:\n",
        "        if element.startswith('▁'):\n",
        "            text += element[1:] if len(element) > 1 else ' '\n",
        "        else:\n",
        "            text += element\n",
        "        text += ' '\n",
        "    text = re.sub(r'\\s{2,5}', ' ', text)\n",
        "    return text"
      ],
      "execution_count": 0,
      "outputs": []
    },
    {
      "cell_type": "code",
      "metadata": {
        "id": "b3MkY77v_gEH",
        "colab_type": "code",
        "colab": {
          "base_uri": "https://localhost:8080/",
          "height": 1000
        },
        "outputId": "ea89d3e1-b1d7-43a9-cb23-e7611df275cf"
      },
      "source": [
        "predict = []\n",
        "for i, batch in enumerate(test_iter):\n",
        "    if i % 14 == 0 and i > 0:\n",
        "        predict.append(batch.text[:6, 1])\n",
        "predict.append(torch.tensor([5]).to(device))\n",
        "\n",
        "for ind, el in enumerate(predict):\n",
        "        beams = beam_search(input_seq=el)\n",
        "        print('EXAMPLE № {}'.format(ind))\n",
        "        for element in beams:\n",
        "            element = decode(element[0].tolist())\n",
        "            initial = element[:len(el)]\n",
        "            generated = element[len(el):]\n",
        "            print('Text: ', make_text(initial))\n",
        "            print('Generated Text: ', make_text(generated))\n",
        "            print(' ')"
      ],
      "execution_count": 45,
      "outputs": [
        {
          "output_type": "stream",
          "text": [
            "EXAMPLE № 0\n",
            "Text:  for his <unk> , a \n",
            "Generated Text:  characteristics fer mm version agues stephen stephen jes feud bur fer fer fer rhythm green jes feud feud bur fer fer fer schools op. fer fer fer rhythm feud feud bur agues format 20th election \n",
            " \n",
            "Text:  for his <unk> , a \n",
            "Generated Text:  characteristics fer mm version agues stephen stephen jes feud bur fer fer fer rhythm green jes feud feud bur fer fer fer schools op. fer fer fer rhythm feud feud format ulysses format classified inform \n",
            " \n",
            "Text:  for his <unk> , a \n",
            "Generated Text:  characteristics fer mm version agues stephen stephen jes feud bur fer fer fer rhythm green jes feud feud bur fer fer fer schools op. fer fer fer rhythm feud feud format ulysses format classified fer \n",
            " \n",
            "EXAMPLE № 1\n",
            "Text:  the influence of du fu in \n",
            "Generated Text:  agues fer election fer agues stephen debate fer fer fer rhythm green mm version strategy ified strategy strongest format edy leg mm 1976 downtown study fer fer inform green mm agues stephen rupted classified strategy \n",
            " \n",
            "Text:  the influence of du fu in \n",
            "Generated Text:  agues fer election fer agues stephen debate fer fer fer rhythm green mm version strategy ified strategy strongest format edy leg mm 1976 downtown study fer fer inform agues stephen jes feud feud bur fer \n",
            " \n",
            "Text:  the influence of du fu in \n",
            "Generated Text:  agues fer election fer agues stephen debate fer fer fer rhythm green mm version strategy ified strategy strongest format edy leg mm 1976 downtown study fer fer inform green mm agues stephen rupted following fer \n",
            " \n",
            "EXAMPLE № 2\n",
            "Text:  fu 's work in transform ing \n",
            "Generated Text:  rescue downtown green inform rhythm green inform agues stephen stephen mccar mm agues fer debate fer fer miller strongest iques agues fer fer miller detected format fer inform green mm agues stephen rupted classified strategy \n",
            " \n",
            "Text:  fu 's work in transform ing \n",
            "Generated Text:  rescue downtown green inform rhythm green inform agues stephen stephen mccar mm agues fer debate fer fer miller strongest iques agues fer fer miller detected format fer inform green mm agues stephen rupted following fer \n",
            " \n",
            "Text:  fu 's work in transform ing \n",
            "Generated Text:  rescue downtown green inform rhythm green inform agues stephen stephen mccar mm agues fer debate fer fer miller strongest iques agues fer fer miller detected format fer inform green mm agues stephen rupted following stephen \n",
            " \n",
            "EXAMPLE № 3\n",
            "Text:  , asked <unk> , \" \n",
            "Generated Text:  fer schools fer layer agues stephen jes feud feud bur fer fer fer schools op. fer fer fer rhythm feud feud format ulysses format classified fer mm documentary company characteristics stephen rupted following fer schools \n",
            " \n",
            "Text:  , asked <unk> , \" \n",
            "Generated Text:  fer schools fer layer agues stephen jes feud feud bur fer fer fer schools op. fer fer fer rhythm feud feud format ulysses format classified fer mm documentary company characteristics stephen rupted following stephen belie \n",
            " \n",
            "Text:  , asked <unk> , \" \n",
            "Generated Text:  fer schools fer layer agues stephen jes feud feud bur fer fer fer schools op. fer fer fer rhythm feud feud format ulysses format classified fer mm documentary company characteristics dru ú edy 1919 going \n",
            " \n",
            "EXAMPLE № 4\n",
            "Text:  styles have been used in efforts \n",
            "Generated Text:  fer debate fer fer rhythm dru agues stephen jes feud bur fer fer fer rhythm green jes feud feud bur fer fer fer schools op. fer fer fer rhythm feud feud format ulysses format classified \n",
            " \n",
            "Text:  styles have been used in efforts \n",
            "Generated Text:  fer debate fer fer rhythm dru agues stephen jes feud bur fer fer fer rhythm green jes feud feud bur fer fer fer schools op. fer fer fer rhythm feud feud format ulysses dru manuscript \n",
            " \n",
            "Text:  styles have been used in efforts \n",
            "Generated Text:  fer debate fer fer rhythm dru agues stephen jes feud bur fer fer fer rhythm green jes feud feud bur fer fer fer schools op. fer fer fer rhythm feud feud bur agues format 20th \n",
            " \n",
            "EXAMPLE № 5\n",
            "Text:  . <eos> <eos> \n",
            "Generated Text:  dru rhythm jes dru rhythm fer debate fer rhythm dru jes greatest mm version agues stephen rupted classified strategy strongest dru fer format edy 1919 going green jes feud feud format edy leg mm 1976 \n",
            " \n",
            "Text:  . <eos> <eos> \n",
            "Generated Text:  dru rhythm jes dru rhythm fer debate fer rhythm dru jes greatest mm version agues stephen rupted classified strategy strongest dru fer format edy 1919 going green jes feud feud format edy 1919 rhythm fer \n",
            " \n",
            "Text:  . <eos> <eos> \n",
            "Generated Text:  dru rhythm jes dru rhythm fer debate fer rhythm dru jes greatest mm version agues stephen rupted classified strategy strongest dru fer format edy 1919 going green jes feud feud format edy leg position agues \n",
            " \n",
            "EXAMPLE № 6\n",
            "Text:  \" . the music video received \n",
            "Generated Text:  classified dru rhythm feud bur agues rhythm detected fer fer rhythm famous format fer ency format fer rhythm feud feud format ulysses format classified fer mm documentary company characteristics stephen rupted following fer schools agues \n",
            " \n",
            "Text:  \" . the music video received \n",
            "Generated Text:  classified dru rhythm feud bur agues rhythm detected fer fer rhythm famous format fer ency format fer rhythm feud feud format ulysses format classified fer mm documentary company characteristics stephen rupted following fer schools inform \n",
            " \n",
            "Text:  \" . the music video received \n",
            "Generated Text:  classified dru rhythm feud bur agues rhythm detected fer fer rhythm famous format fer ency format fer rhythm feud feud format ulysses format classified fer mm documentary company characteristics dru ú edy 1919 going dru \n",
            " \n",
            "EXAMPLE № 7\n",
            "Text:  , however , was released by \n",
            "Generated Text:  documentary downtown study fer inform dru dru rhythm green jes feud feud bur fer fer fer schools op. fer fer fer rhythm feud feud format ulysses format classified fer mm documentary company characteristics dru ú \n",
            " \n",
            "Text:  , however , was released by \n",
            "Generated Text:  documentary downtown study fer inform dru dru rhythm green jes feud feud bur fer fer fer schools op. fer fer fer rhythm feud feud format ulysses format classified fer mm documentary company characteristics stephen rupted \n",
            " \n",
            "Text:  , however , was released by \n",
            "Generated Text:  documentary downtown study fer inform dru dru rhythm green jes feud feud bur fer fer fer schools op. fer fer fer rhythm feud feud format ulysses format classified fer mm documentary company characteristics dru format \n",
            " \n",
            "EXAMPLE № 8\n",
            "Text:  <unk> as \" but terf l \n",
            "Generated Text:  dru dru casual rhythm fer rhythm feud feud bur debate format edy ms dru fer format agues stephen jes feud feud bur fer fer fer schools op. fer fer fer rhythm feud feud format ulysses \n",
            " \n",
            "Text:  <unk> as \" but terf l \n",
            "Generated Text:  dru dru casual rhythm fer rhythm feud feud bur debate format edy ms dru fer format agues stephen jes feud feud bur fer fer fer schools op. fer fer fer rhythm feud feud bur debate \n",
            " \n",
            "Text:  <unk> as \" but terf l \n",
            "Generated Text:  dru dru casual rhythm fer rhythm feud feud bur debate format edy ms dru fer format agues stephen jes feud feud bur fer fer fer schools op. fer fer fer rhythm feud feud bur agues \n",
            " \n",
            "EXAMPLE № 9\n",
            "Text:  ing its peak position and the \n",
            "Generated Text:  version agues stephen jes feud feud bur fer fer fer schools op. fer fer fer rhythm feud feud format ulysses format classified fer mm documentary company characteristics stephen rupted following fer schools agues rescue acher \n",
            " \n",
            "Text:  ing its peak position and the \n",
            "Generated Text:  version agues stephen jes feud feud bur fer fer fer schools op. fer fer fer rhythm feud feud format ulysses format classified fer mm documentary company characteristics stephen rupted following fer schools agues rescue rescue \n",
            " \n",
            "Text:  ing its peak position and the \n",
            "Generated Text:  version agues stephen jes feud feud bur fer fer fer schools op. fer fer fer rhythm feud feud format ulysses format classified fer mm documentary company characteristics stephen rupted following fer schools inform wides resour \n",
            " \n",
            "EXAMPLE № 10\n",
            "Text:  . \n",
            "Generated Text:  downtown study field 20th edy position rhythm feud feud journalist format ulysses dru fer format ulysses format classified inform green mm agues rhythm jes feud feud bur fer fer fer schools op. fer fer fer \n",
            " \n",
            "Text:  . \n",
            "Generated Text:  downtown study field 20th edy position rhythm feud feud journalist format ulysses dru fer format ulysses format classified inform green mm agues rhythm jes feud feud bur fer fer fer schools op. fer debate inform \n",
            " \n",
            "Text:  . \n",
            "Generated Text:  downtown study field 20th edy position rhythm feud feud journalist format ulysses dru fer format ulysses format classified inform green mm agues rhythm jes feud feud bur fer fer fer schools op. fer fer miller \n",
            " \n"
          ],
          "name": "stdout"
        }
      ]
    },
    {
      "cell_type": "markdown",
      "metadata": {
        "id": "dnDTO7Q71WG4",
        "colab_type": "text"
      },
      "source": [
        "# Top-K Sampling"
      ]
    },
    {
      "cell_type": "code",
      "metadata": {
        "id": "Y8WtcboqrV1C",
        "colab_type": "code",
        "colab": {}
      },
      "source": [
        "import torch\n",
        "\n",
        "def top_k(pred, top_k=2):\n",
        "\n",
        "    min_val = torch.topk(pred, top_k)[0][..., -1, None]\n",
        "    extra_ids = pred < min_val\n",
        "    pred[extra_ids] = -float(\"Inf\")\n",
        "\n",
        "    return torch.multinomial(torch.exp(pred), 1)"
      ],
      "execution_count": 0,
      "outputs": []
    },
    {
      "cell_type": "code",
      "metadata": {
        "id": "yqlz_RbxKV7-",
        "colab_type": "code",
        "outputId": "92b4ef5f-d4fb-472d-85ad-ade39e771f2a",
        "colab": {
          "base_uri": "https://localhost:8080/",
          "height": 34
        }
      },
      "source": [
        "generate(my_model, top_k, start=seed)"
      ],
      "execution_count": 47,
      "outputs": [
        {
          "output_type": "execute_result",
          "data": {
            "text/plain": [
              "'<unk> venus belongfer layeragues dru formatfer election druferency dru formatagues strategy election openagues strategy election druagues strategy election druaguesfer debate green'"
            ]
          },
          "metadata": {
            "tags": []
          },
          "execution_count": 47
        }
      ]
    },
    {
      "cell_type": "markdown",
      "metadata": {
        "id": "v_hFIV5yJuah",
        "colab_type": "text"
      },
      "source": [
        "# With temperature"
      ]
    },
    {
      "cell_type": "code",
      "metadata": {
        "id": "wPXyeMwvMn2Z",
        "colab_type": "code",
        "colab": {}
      },
      "source": [
        "def tau_2(probs, tau=1):\n",
        "\n",
        "  probs = probs.detach()\n",
        "  dop = probs/tau\n",
        "  res = tt.exp(dop)/tt.sum(tt.exp(dop))\n",
        "  res = res.squeeze()\n",
        "  res = res.numpy()/np.sum(res.numpy())\n",
        "  result = np.random.choice(len(res), 1, p=res)[0]\n",
        "  \n",
        "  return result"
      ],
      "execution_count": 0,
      "outputs": []
    },
    {
      "cell_type": "code",
      "metadata": {
        "id": "5DaFrzXsAM1A",
        "colab_type": "code",
        "colab": {
          "base_uri": "https://localhost:8080/",
          "height": 34
        },
        "outputId": "b18069a7-9ed4-4b9f-ac0d-b8b9063ab583"
      },
      "source": [
        "generate(model, tau_2, seed)"
      ],
      "execution_count": 53,
      "outputs": [
        {
          "output_type": "execute_result",
          "data": {
            "text/plain": [
              "'<unk> recognizedaval roc austrianont passed cameuments ready measuredthilton ordering arm particularature newspaper bes fictional richmond ast worked 49 chose zone remove lyrics defended genre york'"
            ]
          },
          "metadata": {
            "tags": []
          },
          "execution_count": 53
        }
      ]
    },
    {
      "cell_type": "markdown",
      "metadata": {
        "id": "mMOLBtLkJnNN",
        "colab_type": "text"
      },
      "source": [
        "# Nucleus"
      ]
    },
    {
      "cell_type": "code",
      "metadata": {
        "id": "cKh4kzQfnBGq",
        "colab_type": "code",
        "colab": {}
      },
      "source": [
        "def tau_dop(probs, tau = 1):\n",
        "  probs = probs.detach()\n",
        "  dop = probs/tau\n",
        "  res = tt.exp(dop)/tt.sum(tt.exp(dop))\n",
        "  res = res.squeeze()\n",
        "  if np.sum(res.numpy()) == 1:\n",
        "    res = res.numpy()\n",
        "  else:\n",
        "    res = res.numpy()/np.sum(res.numpy())\n",
        "    \n",
        "  return res"
      ],
      "execution_count": 0,
      "outputs": []
    },
    {
      "cell_type": "code",
      "metadata": {
        "id": "vM0nKcBIAtSG",
        "colab_type": "code",
        "colab": {}
      },
      "source": [
        "def nucleus(probs, p = 0.5):\n",
        "  cumul = 0\n",
        "  num = 0\n",
        "\n",
        "  probs = probs.detach().squeeze()\n",
        "  new_probs =  tt.tensor(tau_dop(probs))\n",
        "  sorted_probs = tt.argsort(new_probs, descending=True)\n",
        "\n",
        "  while cumul < p:\n",
        "    prob_id = sorted_probs[num]\n",
        "    cumul += new_probs[prob_id]\n",
        "    num += 1\n",
        "\n",
        "  top_ids = sorted_probs[:num]\n",
        "  top_probs = new_probs[top_ids]\n",
        "  result = np.random.choice(top_ids.numpy(), 1, p=tau_dop(top_probs))[0]\n",
        "\n",
        "  return result"
      ],
      "execution_count": 0,
      "outputs": []
    },
    {
      "cell_type": "code",
      "metadata": {
        "id": "SoiU3bh5AtYy",
        "colab_type": "code",
        "colab": {
          "base_uri": "https://localhost:8080/",
          "height": 34
        },
        "outputId": "c3d02e7e-6ad4-4374-a602-59fe94044904"
      },
      "source": [
        "gen_t_nucl = generate(my_model, nucleus, seed)\n",
        "\n",
        "print(gen_t_nucl)"
      ],
      "execution_count": 57,
      "outputs": [
        {
          "output_type": "stream",
          "text": [
            "<unk> attorney 19thection shorter europiumroadgy beth 105ṅsa rhodes thinraft momentither storm romani animals 250ements coordin din 1990 dism english influṃ roxas diplom\n"
          ],
          "name": "stdout"
        }
      ]
    },
    {
      "cell_type": "code",
      "metadata": {
        "id": "ENQt3V9oA4CQ",
        "colab_type": "code",
        "colab": {
          "base_uri": "https://localhost:8080/",
          "height": 34
        },
        "outputId": "4947c1e4-155d-4558-c19b-c8458b661f06"
      },
      "source": [
        "generate(my_model, nucleus, seed)"
      ],
      "execution_count": 58,
      "outputs": [
        {
          "output_type": "execute_result",
          "data": {
            "text/plain": [
              "'<unk> formal` fif titles rulingorganshore keats rareuments scientology stylesfield ide ag listed abs 3 footenth canad collebc vol bombs 20 inter explo watson named'"
            ]
          },
          "metadata": {
            "tags": []
          },
          "execution_count": 58
        }
      ]
    }
  ]
}