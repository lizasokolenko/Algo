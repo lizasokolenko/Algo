{
  "nbformat": 4,
  "nbformat_minor": 0,
  "metadata": {
    "colab": {
      "name": "Untitled0 (1).ipynb",
      "provenance": []
    },
    "kernelspec": {
      "name": "python3",
      "display_name": "Python 3"
    }
  },
  "cells": [
    {
      "cell_type": "markdown",
      "metadata": {
        "id": "s46NuPjRJ8nH",
        "colab_type": "text"
      },
      "source": [
        "\n",
        "## Assignment 2\n",
        "Demostrate consequences of No Free Lunch Theorem: every model of machine learning makes assumptions about dataset properties. If the assumption fails, model perfoms badly. If the assumption is met, model perfoms good.\n",
        "\n",
        "For each of the tasks, described below:\n",
        "\n",
        "create a dataset to meet the description. For demonstration purposes, feature dimension size = 2\n",
        "train the models and evaluate accuracy. (with a training pipeline, described in the seminar)\n",
        "Show which model is better.\n",
        "Write what assumptions were used, and why model exibits such behavior.\n",
        "Plot dataset to demonstrate its properties. (Scatter plot, classes with different colors)\n",
        "Tasks:\n",
        "\n",
        "Create dataset for binary classification task (binary crossentropy), where k-NN perfoms worse than logistic regression\n",
        "\n",
        "Create dataset for binary classification task (binary crossentropy), where logistic regression perfoms worse than k-NN\n",
        "\n",
        "Create dataset for binary classification task (binary crossentropy), where k-NN with cosine distance perfoms better than k-NN with euclidean distance\n",
        "\n",
        "! If there is no explanation, why one model perfoms better than the other on your dataset, the task does not count.\n",
        "! if the training pipeline is not used, the task does not count."
      ]
    },
    {
      "cell_type": "markdown",
      "metadata": {
        "id": "SoL4cDsDKwxr",
        "colab_type": "text"
      },
      "source": [
        "## Task 1. Create dataset for binary classification task (binary crossentropy), where k-NN perfoms worse than logistic regression\n",
        "Значением функции логистической регрессии является вероятность того, что данное исходное значение принадлежит к определенному классу.\n",
        "В случае использования метода KNN для классификации объект присваивается тому классу, который является наиболее распространённым среди соседей данного элемента, классы которых уже известны.\n",
        "Для решения задачи нам нужно сгенерировать выборку, которая будет линейно разделима, но в то же время в которой часто будут близки друг к другу объекты разных классов. Это может быть выборка, в которой точки в пространстве признаков, соответствующие объектам, лежат разреженно на довольно близких друг к другу двух параллельных прямых, причём на каждой прямой лежат только точки одного класса."
      ]
    },
    {
      "cell_type": "code",
      "metadata": {
        "id": "Bc5d2XdVBXjT",
        "colab_type": "code",
        "colab": {}
      },
      "source": [
        "import numpy as np\n",
        "import random\n",
        "import matplotlib.pyplot as plt\n",
        "from numpy import vectorize\n",
        "import random\n",
        "from sklearn.metrics import accuracy_score"
      ],
      "execution_count": 0,
      "outputs": []
    },
    {
      "cell_type": "code",
      "metadata": {
        "id": "P84ump0iJyWa",
        "colab_type": "code",
        "colab": {}
      },
      "source": [
        "from sklearn.model_selection import train_test_split\n",
        "from sklearn.linear_model import LogisticRegression\n",
        "from sklearn.model_selection import GridSearchCV\n",
        "from sklearn.neighbors import KNeighborsClassifier"
      ],
      "execution_count": 0,
      "outputs": []
    },
    {
      "cell_type": "code",
      "metadata": {
        "id": "rT-Mz8eQJyYr",
        "colab_type": "code",
        "colab": {}
      },
      "source": [
        "def training_pipeline(clf, X, y, param_dict):\n",
        "    X_train, X_test, y_train, y_test = train_test_split(X, y, random_state=42)\n",
        "    clf.fit(X_train, y_train)\n",
        "    validator = GridSearchCV(clf,\n",
        "                             param_grid = param_dict,\n",
        "                             cv = 5)\n",
        "    validator.fit(X_train, y_train)\n",
        "    clf = validator.best_estimator_"
      ],
      "execution_count": 0,
      "outputs": []
    },
    {
      "cell_type": "code",
      "metadata": {
        "id": "TZPptq6GJyan",
        "colab_type": "code",
        "colab": {}
      },
      "source": [
        "X1 = [(x, 2*x + 5) for x in range(0, 100, 5)]\n",
        "X0 = [(x, z+2.5) for x, z in X1]\n",
        "X = np.array(X1+X0)\n",
        "y = np.array([1 for i in range(20)] + [0 for i in range(20)])"
      ],
      "execution_count": 0,
      "outputs": []
    },
    {
      "cell_type": "code",
      "metadata": {
        "id": "ycSx5e77Jycn",
        "colab_type": "code",
        "outputId": "d724592b-4848-4d96-88bd-0677194eae86",
        "colab": {
          "base_uri": "https://localhost:8080/",
          "height": 298
        }
      },
      "source": [
        "plt.figure()\n",
        "color = [\"yellow\" if i==1 else \"blue\" for i in y]\n",
        "plt.scatter([i[0] for i in X],\n",
        "            [i[1] for i in X]\n",
        "            , color=color)\n",
        "plt.title('dataset for binary classification, where k-NN < logistic regression')"
      ],
      "execution_count": 5,
      "outputs": [
        {
          "output_type": "execute_result",
          "data": {
            "text/plain": [
              "Text(0.5, 1.0, 'dataset for binary classification, where k-NN < logistic regression')"
            ]
          },
          "metadata": {
            "tags": []
          },
          "execution_count": 5
        },
        {
          "output_type": "display_data",
          "data": {
            "image/png": "[encoded data removed]",
            "text/plain": [
              "<Figure size 432x288 with 1 Axes>"
            ]
          },
          "metadata": {
            "tags": []
          }
        }
      ]
    },
    {
      "cell_type": "code",
      "metadata": {
        "id": "XkrJBs-jJyfJ",
        "colab_type": "code",
        "colab": {}
      },
      "source": [
        "training_pipeline(LogisticRegression(solver='liblinear'), X, y,\n",
        "                 {'C': np.arange(.01,1,.01)})"
      ],
      "execution_count": 0,
      "outputs": []
    },
    {
      "cell_type": "code",
      "metadata": {
        "id": "Igf-i48FJyhx",
        "colab_type": "code",
        "colab": {}
      },
      "source": [
        "training_pipeline(KNeighborsClassifier(), X, y,\n",
        "                 {'n_neighbors': range(1, 10)})"
      ],
      "execution_count": 0,
      "outputs": []
    },
    {
      "cell_type": "markdown",
      "metadata": {
        "id": "NrKNw8x2MAsR",
        "colab_type": "text"
      },
      "source": [
        "## Task 2. Create dataset for binary classification task (binary crossentropy), where logistic regression perfoms worse than k-NN\n",
        "Для решения задачи нужно сделать выборку, которую невозможно разделить прямой на плоскости. А для улучшения задачи для KNN сделаем выборку, обьекты одного класса которой будут находиться рядом друг с другом, в некоторых центрах классов."
      ]
    },
    {
      "cell_type": "code",
      "metadata": {
        "id": "xfIrByeIJykP",
        "colab_type": "code",
        "outputId": "e3455fe0-cf26-4712-b3ef-e4ae42731ab7",
        "colab": {
          "base_uri": "https://localhost:8080/",
          "height": 35
        }
      },
      "source": [
        "N = 300\n",
        "X1 = np.random.randint(low=0,high=N//3, size=N//3)\n",
        "X2 = np.random.randint(low=N//3, high=N//3*2, size=N//3)\n",
        "X3 = np.random.randint(low=N//3*2, high=N, size=N//3)\n",
        "X = np.append(X1,X2)\n",
        "X = np.append(X, X3)\n",
        "X = X / np.linalg.norm(X)\n",
        "\n",
        "y = np.arange(0,N)\n",
        "y = y / np.linalg.norm(y)\n",
        "\n",
        "X_task2 = np.array([(X[i], y[i]) for i in range(0,N)])\n",
        "X_task2.shape"
      ],
      "execution_count": 8,
      "outputs": [
        {
          "output_type": "execute_result",
          "data": {
            "text/plain": [
              "(300, 2)"
            ]
          },
          "metadata": {
            "tags": []
          },
          "execution_count": 8
        }
      ]
    },
    {
      "cell_type": "code",
      "metadata": {
        "id": "ELBZ6SaFNQZ6",
        "colab_type": "code",
        "colab": {}
      },
      "source": [
        "def model_pipline(model, X, y, hyper_params):\n",
        "  scores = []\n",
        "  X_train, X_test, y_train, y_test = train_test_split(X, y, test_size=0.25, random_state=42)\n",
        "  model.fit(X_train, y_train)\n",
        "  scores.append(model.score(X_train, y_train))\n",
        "\n",
        "  grid_search = GridSearchCV(model, cv=5, param_grid=hyper_params)\n",
        "  grid_search.fit(X_train, y_train)\n",
        "  scores.append(grid_search.best_score_)\n",
        "  \n",
        "  model = grid_search.best_estimator_\n",
        "  scores.append(model.score(X_test, y_test))\n",
        "\n",
        "  return scores"
      ],
      "execution_count": 0,
      "outputs": []
    },
    {
      "cell_type": "code",
      "metadata": {
        "id": "aOAcpbOZJym3",
        "colab_type": "code",
        "outputId": "3421fecf-acee-4587-8091-7208026bac03",
        "colab": {
          "base_uri": "https://localhost:8080/",
          "height": 35
        }
      },
      "source": [
        "y_task2 = np.array([[1 for i in range(0,N//3+3)] \n",
        "                    + [0 for i in range(N//3+3,N//3*2+3)] \n",
        "                    + [1 for i in range(N//3*2+3,N)]])\n",
        "y_task2 = y_task2.reshape(N,)\n",
        "y_task2.shape"
      ],
      "execution_count": 10,
      "outputs": [
        {
          "output_type": "execute_result",
          "data": {
            "text/plain": [
              "(300,)"
            ]
          },
          "metadata": {
            "tags": []
          },
          "execution_count": 10
        }
      ]
    },
    {
      "cell_type": "code",
      "metadata": {
        "id": "IXfud7_cJypS",
        "colab_type": "code",
        "outputId": "76c2f4f0-4082-4603-fd68-91cfbc18740a",
        "colab": {
          "base_uri": "https://localhost:8080/",
          "height": 381
        }
      },
      "source": [
        "plt.figure(figsize=(5.5, 5.5))\n",
        "plt.scatter([el[0] for el in X_task2],[el[1] for el in X_task2],\n",
        "            c=['yellow' if el == 1 else 'blue' for el in y_task2])\n",
        "plt.title('dataset for binary classification, where k-NN > logistic regression')"
      ],
      "execution_count": 11,
      "outputs": [
        {
          "output_type": "execute_result",
          "data": {
            "text/plain": [
              "Text(0.5, 1.0, 'dataset for binary classification, where k-NN > logistic regression')"
            ]
          },
          "metadata": {
            "tags": []
          },
          "execution_count": 11
        },
        {
          "output_type": "display_data",
          "data": {
            "image/png": "[encoded data removed]",
            "text/plain": [
              "<Figure size 396x396 with 1 Axes>"
            ]
          },
          "metadata": {
            "tags": []
          }
        }
      ]
    },
    {
      "cell_type": "code",
      "metadata": {
        "id": "Lu82WHxrJyrf",
        "colab_type": "code",
        "outputId": "db7d40f7-af6e-4062-c220-ef8683a3f3d9",
        "colab": {
          "base_uri": "https://localhost:8080/",
          "height": 35
        }
      },
      "source": [
        "hyper_params = {\n",
        "    'dual' : [True, False],\n",
        "    'warm_start': [True, False],\n",
        "    'solver' : ['liblinear']\n",
        "}\n",
        "scores = model_pipline(LogisticRegression(), X_task2, y_task2, hyper_params=hyper_params)\n",
        "print('Train Acc {}; valid acc {}; test acc {}'.format(scores[0], scores[1], scores[2]))"
      ],
      "execution_count": 12,
      "outputs": [
        {
          "output_type": "stream",
          "text": [
            "Train Acc 0.6577777777777778; valid acc 0.6577777777777778; test acc 0.6933333333333334\n"
          ],
          "name": "stdout"
        }
      ]
    },
    {
      "cell_type": "code",
      "metadata": {
        "id": "nu4aRq1nJyt5",
        "colab_type": "code",
        "outputId": "72d6f334-96a6-4912-8138-674a925659ab",
        "colab": {
          "base_uri": "https://localhost:8080/",
          "height": 35
        }
      },
      "source": [
        "hyper_params = {\n",
        "    'n_neighbors': [i for i in range(1,10)],\n",
        "    'weights' : ['uniform', 'distance'],\n",
        "    'algorithm' : ['auto', 'ball_tree', 'kd_tree', 'brute']\n",
        "}\n",
        "scores = model_pipline(KNeighborsClassifier(), X_task2, y_task2, hyper_params=hyper_params)\n",
        "print('Train Acc {}; valid acc {}; test acc {}'.format(scores[0], scores[1], scores[2]))"
      ],
      "execution_count": 13,
      "outputs": [
        {
          "output_type": "stream",
          "text": [
            "Train Acc 0.9733333333333334; valid acc 0.9822222222222223; test acc 0.9866666666666667\n"
          ],
          "name": "stdout"
        }
      ]
    },
    {
      "cell_type": "markdown",
      "metadata": {
        "id": "DL8fvlS9OBgD",
        "colab_type": "text"
      },
      "source": [
        "## Task 3. Create dataset for binary classification task (binary crossentropy), where k-NN with cosine distance perfoms better than k-NN with euclidean distance\n",
        "Косинусное расстояние велико, когда векторы, соответствующие точкам, находятся далеко друг от друга.\n",
        "Евклидово расстояние велико, когда точки находятся далеко друг от друга.\n",
        "Для решения задачи нужно не выполнять второе предложение, а выполнить первое, так что k-NN с косинусным расстоянием будет работать лучше чем k-NN с евклидовым расстоянием. Нужно сделать так, чтобы все точки данных одного класса были на одном векторе, так чтобы евклидово расстояние было равно нулю, а другой класс был разбросан вокруг."
      ]
    },
    {
      "cell_type": "code",
      "metadata": {
        "id": "OgecHR3-Jyyf",
        "colab_type": "code",
        "colab": {}
      },
      "source": [
        "n_samples = 100\n",
        "class_size = int(n_samples/2)\n",
        "class_sep = 5\n",
        "step = 10"
      ],
      "execution_count": 0,
      "outputs": []
    },
    {
      "cell_type": "code",
      "metadata": {
        "id": "LUEhI79fJy01",
        "colab_type": "code",
        "colab": {
          "base_uri": "https://localhost:8080/",
          "height": 624
        },
        "outputId": "65af961b-c583-49cd-f67d-5ed6a3f4685b"
      },
      "source": [
        "\n",
        "np.random.seed(0)\n",
        "X_axis = np.array(list(range(0, class_size*step, step)))\n",
        "Y_axis = np.array([0]*class_size)\n",
        "\n",
        "Y_axis =  np.append(Y_axis, step * np.random.normal(size=int(class_size/2)) + class_sep)\n",
        "Y_axis =  np.append(Y_axis, step * np.random.normal(size=int(class_size/2)) - class_sep)\n",
        "X_axis = np.append(X_axis, np.random.uniform(0, step*class_size, size=class_size))\n",
        "\n",
        "y = np.array([0] * class_size + [1] * class_size)\n",
        "\n",
        "X = np.append([X_axis], [Y_axis, y], axis=0).T\n",
        "\n",
        "np.random.shuffle(X)\n",
        "\n",
        "plt.figure(figsize=(10, 10))\n",
        "plt.title(\"dataset for binary classification, where eucledian k-NN < cosine k-NN\")\n",
        "plt.scatter(X[:, 0], X[:, 1], marker='o', c=X[:, 2])"
      ],
      "execution_count": 15,
      "outputs": [
        {
          "output_type": "execute_result",
          "data": {
            "text/plain": [
              "<matplotlib.collections.PathCollection at 0x7fb2564eda20>"
            ]
          },
          "metadata": {
            "tags": []
          },
          "execution_count": 15
        },
        {
          "output_type": "display_data",
          "data": {
            "image/png": "[encoded data removed]",
            "text/plain": [
              "<Figure size 720x720 with 1 Axes>"
            ]
          },
          "metadata": {
            "tags": []
          }
        }
      ]
    },
    {
      "cell_type": "code",
      "metadata": {
        "id": "v6QrZjw4GZXI",
        "colab_type": "code",
        "colab": {}
      },
      "source": [
        "train_ids, test_ids = train_test_split(range(n_samples), test_size=0.3, random_state=42)\n",
        "y = X[:, 2]\n",
        "X_train = X[train_ids]\n",
        "X_test = X[test_ids]\n",
        "y_train = y[train_ids]\n",
        "y_test = y[test_ids]\n",
        "\n",
        "k_range = list(range(1, class_size, int(class_size/10)))"
      ],
      "execution_count": 0,
      "outputs": []
    },
    {
      "cell_type": "code",
      "metadata": {
        "id": "seox4vJeAhgN",
        "colab_type": "code",
        "outputId": "a9d9f0fe-0691-4d9a-ffa0-8c00c76b7756",
        "colab": {
          "base_uri": "https://localhost:8080/",
          "height": 52
        }
      },
      "source": [
        "neigh = KNeighborsClassifier(n_neighbors=10,  metric=\"euclidean\")\n",
        "param_grid = dict(n_neighbors=k_range)\n",
        "grid = GridSearchCV(neigh, param_grid, cv=10, scoring='accuracy', iid=True)\n",
        "grid.fit(X_train, y_train)\n",
        "best_k = grid.best_params_['n_neighbors']\n",
        "neigh = KNeighborsClassifier(n_neighbors=best_k, metric=\"euclidean\")\n",
        "neigh.fit(X_train, y_train) \n",
        "knn_euc_test_score = accuracy_score(y_test, neigh.predict(X_test))"
      ],
      "execution_count": 17,
      "outputs": [
        {
          "output_type": "stream",
          "text": [
            "/usr/local/lib/python3.6/dist-packages/sklearn/model_selection/_search.py:823: FutureWarning: The parameter 'iid' is deprecated in 0.22 and will be removed in 0.24.\n",
            "  \"removed in 0.24.\", FutureWarning\n"
          ],
          "name": "stderr"
        }
      ]
    },
    {
      "cell_type": "code",
      "metadata": {
        "id": "Dh6dii3kAtgp",
        "colab_type": "code",
        "colab": {
          "base_uri": "https://localhost:8080/",
          "height": 52
        },
        "outputId": "6ccbab00-233e-48a3-939f-ba85e862359f"
      },
      "source": [
        "neigh = KNeighborsClassifier(n_neighbors=10,  metric=\"cosine\")\n",
        "param_grid = dict(n_neighbors=k_range)\n",
        "grid = GridSearchCV(neigh, param_grid, cv=10, scoring='accuracy', iid=True)\n",
        "grid.fit(X_train, y_train)\n",
        "best_k = grid.best_params_['n_neighbors']\n",
        "neigh = KNeighborsClassifier(n_neighbors=best_k, metric=\"cosine\")\n",
        "neigh.fit(X_train, y_train) \n",
        "knn_cos_test_score = accuracy_score(y_test, neigh.predict(X_test))"
      ],
      "execution_count": 18,
      "outputs": [
        {
          "output_type": "stream",
          "text": [
            "/usr/local/lib/python3.6/dist-packages/sklearn/model_selection/_search.py:823: FutureWarning: The parameter 'iid' is deprecated in 0.22 and will be removed in 0.24.\n",
            "  \"removed in 0.24.\", FutureWarning\n"
          ],
          "name": "stderr"
        }
      ]
    },
    {
      "cell_type": "code",
      "metadata": {
        "id": "1-qaInm9AyzG",
        "colab_type": "code",
        "colab": {
          "base_uri": "https://localhost:8080/",
          "height": 52
        },
        "outputId": "28bcb580-972d-4b49-c6da-6aa9ba984866"
      },
      "source": [
        "print(f\"cosine k-NN: {knn_cos_test_score}\\neuclidian k-NN: {knn_euc_test_score}\")"
      ],
      "execution_count": 19,
      "outputs": [
        {
          "output_type": "stream",
          "text": [
            "cosine k-NN: 1.0\n",
            "euclidian k-NN: 0.43333333333333335\n"
          ],
          "name": "stdout"
        }
      ]
    }
  ]
}